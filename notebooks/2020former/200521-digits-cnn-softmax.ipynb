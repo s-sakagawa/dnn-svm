{
 "cells": [
  {
   "cell_type": "code",
   "execution_count": 1,
   "metadata": {},
   "outputs": [],
   "source": [
    "from pathlib import Path\n",
    "from typing import Union, Callable\n",
    "\n",
    "import numpy as np\n",
    "import matplotlib.pyplot as plt\n",
    "import pandas as pd\n",
    "import seaborn as sns\n",
    "import tensorflow as tf\n",
    "import tensorflow.keras as tfk\n",
    "from sklearn import datasets\n",
    "from sklearn.externals import joblib\n",
    "from sklearn.metrics import classification_report\n",
    "from sklearn.model_selection import train_test_split\n",
    "\n",
    "from dlsvm.models import DnnSvm\n",
    "from dlsvm.tools import build_model, label_2_onehot"
   ]
  },
  {
   "cell_type": "code",
   "execution_count": 2,
   "metadata": {},
   "outputs": [],
   "source": [
    "out = Path('./0521_digits_cnn_softmax')\n",
    "if not out.exists():\n",
    "    out.mkdir(parents=True)"
   ]
  },
  {
   "cell_type": "code",
   "execution_count": 3,
   "metadata": {},
   "outputs": [],
   "source": [
    "sns.set()"
   ]
  },
  {
   "cell_type": "markdown",
   "metadata": {},
   "source": [
    "### Load dataset"
   ]
  },
  {
   "cell_type": "code",
   "execution_count": 4,
   "metadata": {},
   "outputs": [],
   "source": [
    "digits = datasets.load_digits()"
   ]
  },
  {
   "cell_type": "code",
   "execution_count": 5,
   "metadata": {},
   "outputs": [],
   "source": [
    "digits = datasets.load_digits()\n",
    "X = digits.data.astype(np.float32).reshape(-1, 8, 8, 1)\n",
    "y = digits.target.astype(np.float32)"
   ]
  },
  {
   "cell_type": "code",
   "execution_count": 6,
   "metadata": {},
   "outputs": [],
   "source": [
    "X_train, X_test, y_train, y_test = train_test_split(X, y, test_size=0.2, random_state=42)\n",
    "\n",
    "X_train_, X_train_val, y_train_, y_train_val = train_test_split(X_train, y_train, test_size=0.2, random_state=42)"
   ]
  },
  {
   "cell_type": "code",
   "execution_count": 7,
   "metadata": {},
   "outputs": [],
   "source": [
    "y_train_ = label_2_onehot(y_train_)\n",
    "y_train_val = label_2_onehot(y_train_val)"
   ]
  },
  {
   "cell_type": "markdown",
   "metadata": {},
   "source": [
    "### Build model"
   ]
  },
  {
   "cell_type": "code",
   "execution_count": 8,
   "metadata": {},
   "outputs": [],
   "source": [
    "n_class=len(digits.target_names)\n",
    "n_h=64\n",
    "activation='relu'\n",
    "kernel_initializer='he_uniform'\n",
    "output_function = 'softmax'"
   ]
  },
  {
   "cell_type": "code",
   "execution_count": 9,
   "metadata": {},
   "outputs": [],
   "source": [
    "cnn = tfk.Sequential(\n",
    "    [\n",
    "        tfk.layers.Conv2D(\n",
    "            input_shape=(8, 8, 1),\n",
    "            filters=16,\n",
    "            kernel_size=(3, 3),\n",
    "            padding='same',\n",
    "        ),\n",
    "        tfk.layers.Flatten(),\n",
    "        tfk.layers.Dense(\n",
    "            n_h,\n",
    "            kernel_initializer=kernel_initializer,\n",
    "            activation=activation\n",
    "        ),\n",
    "        tfk.layers.Dense(\n",
    "            n_class,\n",
    "            kernel_initializer=kernel_initializer,\n",
    "            activation=output_function\n",
    "        )\n",
    "    ]\n",
    ")"
   ]
  },
  {
   "cell_type": "code",
   "execution_count": 10,
   "metadata": {},
   "outputs": [
    {
     "name": "stdout",
     "output_type": "stream",
     "text": [
      "Model: \"sequential\"\n",
      "_________________________________________________________________\n",
      "Layer (type)                 Output Shape              Param #   \n",
      "=================================================================\n",
      "conv2d (Conv2D)              (None, 8, 8, 16)          160       \n",
      "_________________________________________________________________\n",
      "flatten (Flatten)            (None, 1024)              0         \n",
      "_________________________________________________________________\n",
      "dense (Dense)                (None, 64)                65600     \n",
      "_________________________________________________________________\n",
      "dense_1 (Dense)              (None, 10)                650       \n",
      "=================================================================\n",
      "Total params: 66,410\n",
      "Trainable params: 66,410\n",
      "Non-trainable params: 0\n",
      "_________________________________________________________________\n"
     ]
    }
   ],
   "source": [
    "cnn.summary()"
   ]
  },
  {
   "cell_type": "code",
   "execution_count": 11,
   "metadata": {},
   "outputs": [],
   "source": [
    "dlsvm = build_model(\n",
    "    n_class=n_class,\n",
    "    model=cnn,\n",
    "    penalty=1.,\n",
    "    softmax=True\n",
    ")"
   ]
  },
  {
   "cell_type": "code",
   "execution_count": 12,
   "metadata": {},
   "outputs": [],
   "source": [
    "batch_size = 64\n",
    "epochs = 50\n",
    "learning_rate = 1e-3\n",
    "patience = 5\n",
    "loss = 'categorical_crossentropy'"
   ]
  },
  {
   "cell_type": "code",
   "execution_count": 13,
   "metadata": {},
   "outputs": [],
   "source": [
    "optimizer = tf.keras.optimizers.Adam(learning_rate=learning_rate)\n",
    "dlsvm.compile(optimizer=optimizer, loss=loss, metrics=['acc'])"
   ]
  },
  {
   "cell_type": "code",
   "execution_count": 14,
   "metadata": {},
   "outputs": [
    {
     "name": "stdout",
     "output_type": "stream",
     "text": [
      "WARNING:tensorflow:`period` argument is deprecated. Please use `save_freq` to specify the frequency in number of samples seen.\n"
     ]
    }
   ],
   "source": [
    "es_cb = tfk.callbacks.EarlyStopping(\n",
    "    monitor='val_loss', patience=patience, mode='auto'\n",
    ")\n",
    "tb_cb = tfk.callbacks.TensorBoard(log_dir=str(out))\n",
    "cl_cb = tfk.callbacks.CSVLogger(\n",
    "    str(out.joinpath('train.log.csv')), separator=',', append=False\n",
    ")\n",
    "cp_cb = tfk.callbacks.ModelCheckpoint(\n",
    "    str(out.joinpath('model.weights.h5')), monitor='val_acc', verbose=0,\n",
    "    save_best_only=True, save_weights_only=False, mode='auto', period=1\n",
    ")"
   ]
  },
  {
   "cell_type": "markdown",
   "metadata": {},
   "source": [
    "### Train model"
   ]
  },
  {
   "cell_type": "code",
   "execution_count": 15,
   "metadata": {},
   "outputs": [
    {
     "name": "stdout",
     "output_type": "stream",
     "text": [
      "Train on 1149 samples, validate on 288 samples\n",
      "Epoch 1/50\n",
      "1149/1149 [==============================] - 2s 1ms/sample - loss: 2.0777 - acc: 0.5013 - val_loss: 0.6490 - val_acc: 0.7882\n",
      "Epoch 2/50\n",
      "1149/1149 [==============================] - 0s 226us/sample - loss: 0.3283 - acc: 0.8973 - val_loss: 0.3016 - val_acc: 0.8958\n",
      "Epoch 3/50\n",
      "1149/1149 [==============================] - 0s 236us/sample - loss: 0.1659 - acc: 0.9539 - val_loss: 0.2102 - val_acc: 0.9410\n",
      "Epoch 4/50\n",
      "1149/1149 [==============================] - 0s 213us/sample - loss: 0.1216 - acc: 0.9669 - val_loss: 0.1776 - val_acc: 0.9410\n",
      "Epoch 5/50\n",
      "1149/1149 [==============================] - 0s 243us/sample - loss: 0.0896 - acc: 0.9756 - val_loss: 0.1293 - val_acc: 0.9618\n",
      "Epoch 6/50\n",
      "1149/1149 [==============================] - 0s 182us/sample - loss: 0.0686 - acc: 0.9861 - val_loss: 0.1343 - val_acc: 0.9514\n",
      "Epoch 7/50\n",
      "1149/1149 [==============================] - 0s 193us/sample - loss: 0.0564 - acc: 0.9904 - val_loss: 0.1178 - val_acc: 0.9618\n",
      "Epoch 8/50\n",
      "1149/1149 [==============================] - 0s 231us/sample - loss: 0.0458 - acc: 0.9922 - val_loss: 0.0973 - val_acc: 0.9688\n",
      "Epoch 9/50\n",
      "1149/1149 [==============================] - 0s 259us/sample - loss: 0.0395 - acc: 0.9948 - val_loss: 0.0942 - val_acc: 0.9722\n",
      "Epoch 10/50\n",
      "1149/1149 [==============================] - 0s 168us/sample - loss: 0.0348 - acc: 0.9956 - val_loss: 0.0934 - val_acc: 0.9653\n",
      "Epoch 11/50\n",
      "1149/1149 [==============================] - 0s 233us/sample - loss: 0.0298 - acc: 0.9965 - val_loss: 0.0926 - val_acc: 0.9722\n",
      "Epoch 12/50\n",
      "1149/1149 [==============================] - 0s 203us/sample - loss: 0.0257 - acc: 0.9948 - val_loss: 0.0826 - val_acc: 0.9722\n",
      "Epoch 13/50\n",
      "1149/1149 [==============================] - 0s 170us/sample - loss: 0.0211 - acc: 0.9974 - val_loss: 0.0820 - val_acc: 0.9688\n",
      "Epoch 14/50\n",
      "1149/1149 [==============================] - 0s 185us/sample - loss: 0.0202 - acc: 0.9983 - val_loss: 0.0897 - val_acc: 0.9722\n",
      "Epoch 15/50\n",
      "1149/1149 [==============================] - 0s 177us/sample - loss: 0.0169 - acc: 1.0000 - val_loss: 0.0762 - val_acc: 0.9722\n",
      "Epoch 16/50\n",
      "1149/1149 [==============================] - 0s 173us/sample - loss: 0.0148 - acc: 0.9991 - val_loss: 0.0899 - val_acc: 0.9722\n",
      "Epoch 17/50\n",
      "1149/1149 [==============================] - 0s 178us/sample - loss: 0.0161 - acc: 0.9991 - val_loss: 0.0772 - val_acc: 0.9722\n",
      "Epoch 18/50\n",
      "1149/1149 [==============================] - 0s 224us/sample - loss: 0.0126 - acc: 0.9983 - val_loss: 0.0703 - val_acc: 0.9826\n",
      "Epoch 19/50\n",
      "1149/1149 [==============================] - 0s 183us/sample - loss: 0.0095 - acc: 1.0000 - val_loss: 0.0677 - val_acc: 0.9826\n",
      "Epoch 20/50\n",
      "1149/1149 [==============================] - 0s 220us/sample - loss: 0.0081 - acc: 1.0000 - val_loss: 0.0656 - val_acc: 0.9792\n",
      "Epoch 21/50\n",
      "1149/1149 [==============================] - 0s 232us/sample - loss: 0.0077 - acc: 1.0000 - val_loss: 0.0680 - val_acc: 0.9826\n",
      "Epoch 22/50\n",
      "1149/1149 [==============================] - 0s 170us/sample - loss: 0.0075 - acc: 1.0000 - val_loss: 0.0635 - val_acc: 0.9826\n",
      "Epoch 23/50\n",
      "1149/1149 [==============================] - 0s 334us/sample - loss: 0.0062 - acc: 1.0000 - val_loss: 0.0636 - val_acc: 0.9826\n",
      "Epoch 24/50\n",
      "1149/1149 [==============================] - 0s 177us/sample - loss: 0.0057 - acc: 1.0000 - val_loss: 0.0639 - val_acc: 0.9826\n",
      "Epoch 25/50\n",
      "1149/1149 [==============================] - 0s 179us/sample - loss: 0.0057 - acc: 1.0000 - val_loss: 0.0642 - val_acc: 0.9826\n",
      "Epoch 26/50\n",
      "1149/1149 [==============================] - 0s 204us/sample - loss: 0.0051 - acc: 1.0000 - val_loss: 0.0626 - val_acc: 0.9792\n",
      "Epoch 27/50\n",
      "1149/1149 [==============================] - 0s 192us/sample - loss: 0.0046 - acc: 1.0000 - val_loss: 0.0627 - val_acc: 0.9826\n",
      "Epoch 28/50\n",
      "1149/1149 [==============================] - 0s 211us/sample - loss: 0.0044 - acc: 1.0000 - val_loss: 0.0619 - val_acc: 0.9792\n",
      "Epoch 29/50\n",
      "1149/1149 [==============================] - 0s 181us/sample - loss: 0.0042 - acc: 1.0000 - val_loss: 0.0626 - val_acc: 0.9826\n",
      "Epoch 30/50\n",
      "1149/1149 [==============================] - 0s 303us/sample - loss: 0.0038 - acc: 1.0000 - val_loss: 0.0636 - val_acc: 0.9826\n",
      "Epoch 31/50\n",
      "1149/1149 [==============================] - 0s 233us/sample - loss: 0.0036 - acc: 1.0000 - val_loss: 0.0611 - val_acc: 0.9826\n",
      "Epoch 32/50\n",
      "1149/1149 [==============================] - 0s 164us/sample - loss: 0.0034 - acc: 1.0000 - val_loss: 0.0621 - val_acc: 0.9826\n",
      "Epoch 33/50\n",
      "1149/1149 [==============================] - 0s 230us/sample - loss: 0.0037 - acc: 1.0000 - val_loss: 0.0611 - val_acc: 0.9826\n",
      "Epoch 34/50\n",
      "1149/1149 [==============================] - 0s 224us/sample - loss: 0.0030 - acc: 1.0000 - val_loss: 0.0627 - val_acc: 0.9826\n",
      "Epoch 35/50\n",
      "1149/1149 [==============================] - 0s 229us/sample - loss: 0.0030 - acc: 1.0000 - val_loss: 0.0604 - val_acc: 0.9826\n",
      "Epoch 36/50\n",
      "1149/1149 [==============================] - 0s 243us/sample - loss: 0.0029 - acc: 1.0000 - val_loss: 0.0618 - val_acc: 0.9826\n",
      "Epoch 37/50\n",
      "1149/1149 [==============================] - 0s 208us/sample - loss: 0.0028 - acc: 1.0000 - val_loss: 0.0597 - val_acc: 0.9826\n",
      "Epoch 38/50\n",
      "1149/1149 [==============================] - 0s 187us/sample - loss: 0.0025 - acc: 1.0000 - val_loss: 0.0599 - val_acc: 0.9826\n",
      "Epoch 39/50\n",
      "1149/1149 [==============================] - 0s 210us/sample - loss: 0.0023 - acc: 1.0000 - val_loss: 0.0601 - val_acc: 0.9826\n",
      "Epoch 40/50\n",
      "1149/1149 [==============================] - 0s 184us/sample - loss: 0.0023 - acc: 1.0000 - val_loss: 0.0592 - val_acc: 0.9826\n",
      "Epoch 41/50\n",
      "1149/1149 [==============================] - 0s 173us/sample - loss: 0.0022 - acc: 1.0000 - val_loss: 0.0597 - val_acc: 0.9826\n",
      "Epoch 42/50\n",
      "1149/1149 [==============================] - 0s 388us/sample - loss: 0.0021 - acc: 1.0000 - val_loss: 0.0593 - val_acc: 0.9826\n",
      "Epoch 43/50\n",
      "1149/1149 [==============================] - 0s 195us/sample - loss: 0.0020 - acc: 1.0000 - val_loss: 0.0598 - val_acc: 0.9826\n",
      "Epoch 44/50\n",
      "1149/1149 [==============================] - 0s 191us/sample - loss: 0.0019 - acc: 1.0000 - val_loss: 0.0587 - val_acc: 0.9826\n",
      "Epoch 45/50\n",
      "1149/1149 [==============================] - 0s 177us/sample - loss: 0.0018 - acc: 1.0000 - val_loss: 0.0587 - val_acc: 0.9826\n",
      "Epoch 46/50\n",
      "1149/1149 [==============================] - 0s 186us/sample - loss: 0.0018 - acc: 1.0000 - val_loss: 0.0584 - val_acc: 0.9826\n",
      "Epoch 47/50\n",
      "1149/1149 [==============================] - 0s 186us/sample - loss: 0.0017 - acc: 1.0000 - val_loss: 0.0589 - val_acc: 0.9826\n",
      "Epoch 48/50\n",
      "1149/1149 [==============================] - 0s 204us/sample - loss: 0.0017 - acc: 1.0000 - val_loss: 0.0594 - val_acc: 0.9826\n",
      "Epoch 49/50\n",
      "1149/1149 [==============================] - 0s 162us/sample - loss: 0.0016 - acc: 1.0000 - val_loss: 0.0578 - val_acc: 0.9826\n",
      "Epoch 50/50\n",
      "1149/1149 [==============================] - 0s 185us/sample - loss: 0.0015 - acc: 1.0000 - val_loss: 0.0581 - val_acc: 0.9826\n"
     ]
    }
   ],
   "source": [
    "history = dlsvm.fit(\n",
    "    *(X_train_, y_train_),\n",
    "    validation_data=(X_train_val, y_train_val),\n",
    "    batch_size=batch_size,\n",
    "    epochs=epochs,\n",
    "    callbacks=[tb_cb, cl_cb, cp_cb]\n",
    ")"
   ]
  },
  {
   "cell_type": "code",
   "execution_count": 16,
   "metadata": {},
   "outputs": [],
   "source": [
    "df_result = pd.DataFrame(history.history)"
   ]
  },
  {
   "cell_type": "code",
   "execution_count": 17,
   "metadata": {},
   "outputs": [
    {
     "data": {
      "image/png": "[encoded data removed]",
      "text/plain": [
       "<Figure size 432x288 with 1 Axes>"
      ]
     },
     "metadata": {},
     "output_type": "display_data"
    }
   ],
   "source": [
    "sns.lineplot(data=df_result[['acc', 'val_acc']])\n",
    "plt.xlabel('epoch')\n",
    "plt.ylabel('acc')\n",
    "plt.savefig(out.joinpath('acc_logs.pdf'))"
   ]
  },
  {
   "cell_type": "code",
   "execution_count": 18,
   "metadata": {},
   "outputs": [
    {
     "data": {
      "image/png": "[encoded data removed]",
      "text/plain": [
       "<Figure size 432x288 with 1 Axes>"
      ]
     },
     "metadata": {},
     "output_type": "display_data"
    }
   ],
   "source": [
    "sns.lineplot(data=df_result[['loss', 'val_loss']])\n",
    "plt.xlabel('epoch')\n",
    "plt.ylabel('loss')\n",
    "plt.savefig(out.joinpath('loss_logs.pdf'))"
   ]
  },
  {
   "cell_type": "code",
   "execution_count": 19,
   "metadata": {},
   "outputs": [],
   "source": [
    "dlsvm.load_weights(str(out.joinpath('model.weights.h5')))"
   ]
  },
  {
   "cell_type": "code",
   "execution_count": 20,
   "metadata": {},
   "outputs": [
    {
     "name": "stdout",
     "output_type": "stream",
     "text": [
      "Model: \"sequential\"\n",
      "_________________________________________________________________\n",
      "Layer (type)                 Output Shape              Param #   \n",
      "=================================================================\n",
      "conv2d (Conv2D)              (None, 8, 8, 16)          160       \n",
      "_________________________________________________________________\n",
      "flatten (Flatten)            (None, 1024)              0         \n",
      "_________________________________________________________________\n",
      "dense (Dense)                (None, 64)                65600     \n",
      "_________________________________________________________________\n",
      "dense_1 (Dense)              (None, 10)                650       \n",
      "=================================================================\n",
      "Total params: 66,410\n",
      "Trainable params: 66,410\n",
      "Non-trainable params: 0\n",
      "_________________________________________________________________\n"
     ]
    }
   ],
   "source": [
    "dlsvm.summary()"
   ]
  },
  {
   "cell_type": "markdown",
   "metadata": {},
   "source": [
    "### Performance of model"
   ]
  },
  {
   "cell_type": "code",
   "execution_count": 21,
   "metadata": {},
   "outputs": [
    {
     "name": "stdout",
     "output_type": "stream",
     "text": [
      "Train perfomance of model\n",
      "             0.0         1.0    2.0         3.0    4.0         5.0    6.0  \\\n",
      "f1-score     1.0    0.996764    1.0    0.989967    1.0    0.996283    1.0   \n",
      "precision    1.0    0.993548    1.0    0.986667    1.0    1.000000    1.0   \n",
      "recall       1.0    1.000000    1.0    0.993289    1.0    0.992593    1.0   \n",
      "support    145.0  154.000000  144.0  149.000000  135.0  135.000000  146.0   \n",
      "\n",
      "                  7.0         8.0         9.0    micro avg    macro avg  \\\n",
      "f1-score     0.993103    0.993056    0.996416     0.996521     0.996559   \n",
      "precision    0.993103    0.993056    1.000000     0.996521     0.996637   \n",
      "recall       0.993103    0.993056    0.992857     0.996521     0.996490   \n",
      "support    145.000000  144.000000  140.000000  1437.000000  1437.000000   \n",
      "\n",
      "           weighted avg  \n",
      "f1-score       0.996523  \n",
      "precision      0.996534  \n",
      "recall         0.996521  \n",
      "support     1437.000000  \n"
     ]
    }
   ],
   "source": [
    "df_train = pd.DataFrame(\n",
    "    classification_report(y_pred=np.argmax(dlsvm.predict(X_train), axis=-1), y_true=y_train, output_dict=True)\n",
    ")\n",
    "print('Train perfomance of model')\n",
    "print(df_train)\n",
    "df_train.to_csv(out.joinpath('train-performance.csv'))"
   ]
  },
  {
   "cell_type": "code",
   "execution_count": 22,
   "metadata": {},
   "outputs": [
    {
     "name": "stdout",
     "output_type": "stream",
     "text": [
      "Test perfomance of model\n",
      "            0.0   1.0        2.0        3.0   4.0        5.0        6.0  \\\n",
      "f1-score    1.0   1.0   0.984615   0.956522   1.0   0.958333   0.971429   \n",
      "precision   1.0   1.0   1.000000   0.942857   1.0   0.938776   0.971429   \n",
      "recall      1.0   1.0   0.969697   0.970588   1.0   0.978723   0.971429   \n",
      "support    33.0  28.0  33.000000  34.000000  46.0  47.000000  35.000000   \n",
      "\n",
      "                 7.0        8.0        9.0   micro avg   macro avg  \\\n",
      "f1-score    0.985075   0.966667   0.962025    0.977778    0.978467   \n",
      "precision   1.000000   0.966667   0.974359    0.977778    0.979409   \n",
      "recall      0.970588   0.966667   0.950000    0.977778    0.977769   \n",
      "support    34.000000  30.000000  40.000000  360.000000  360.000000   \n",
      "\n",
      "           weighted avg  \n",
      "f1-score       0.977859  \n",
      "precision      0.978205  \n",
      "recall         0.977778  \n",
      "support      360.000000  \n"
     ]
    }
   ],
   "source": [
    "df_test = pd.DataFrame(\n",
    "    classification_report(y_pred=np.argmax(dlsvm.predict(X_test), axis=-1), y_true=y_test, output_dict=True)\n",
    ")\n",
    "print('Test perfomance of model')\n",
    "print(df_test)\n",
    "df_test.to_csv(out.joinpath('test-performance.csv'))"
   ]
  },
  {
   "cell_type": "code",
   "execution_count": 23,
   "metadata": {},
   "outputs": [
    {
     "data": {
      "text/plain": [
       "array([6, 0, 0, ..., 2, 7, 1])"
      ]
     },
     "execution_count": 23,
     "metadata": {},
     "output_type": "execute_result"
    }
   ],
   "source": [
    "np.argmax(dlsvm.predict(X_train), axis=-1)"
   ]
  },
  {
   "cell_type": "code",
   "execution_count": 24,
   "metadata": {},
   "outputs": [
    {
     "data": {
      "text/plain": [
       "array([6, 9, 3, 7, 2, 1, 5, 2, 5, 3, 1, 9, 4, 0, 4, 2, 3, 7, 8, 8, 4, 3,\n",
       "       9, 7, 5, 6, 3, 5, 6, 3, 4, 9, 1, 4, 4, 6, 9, 4, 7, 6, 6, 9, 1, 3,\n",
       "       6, 1, 3, 0, 6, 5, 5, 1, 3, 5, 6, 0, 9, 0, 0, 1, 0, 4, 5, 2, 4, 5,\n",
       "       7, 0, 7, 5, 9, 5, 5, 4, 7, 0, 4, 5, 5, 9, 9, 0, 2, 3, 8, 0, 6, 4,\n",
       "       4, 9, 1, 2, 8, 3, 5, 2, 9, 0, 4, 4, 4, 3, 5, 3, 1, 3, 5, 9, 4, 2,\n",
       "       7, 7, 4, 4, 1, 9, 2, 7, 8, 7, 2, 6, 9, 4, 0, 7, 2, 7, 5, 8, 7, 5,\n",
       "       7, 9, 0, 6, 6, 4, 2, 8, 0, 9, 4, 6, 9, 9, 6, 9, 0, 5, 5, 6, 6, 0,\n",
       "       6, 4, 3, 9, 3, 8, 7, 2, 9, 0, 4, 5, 3, 6, 5, 9, 9, 8, 4, 2, 1, 3,\n",
       "       7, 7, 2, 2, 3, 9, 8, 0, 3, 2, 2, 5, 6, 9, 9, 4, 1, 5, 4, 2, 3, 6,\n",
       "       4, 8, 5, 9, 5, 7, 8, 9, 4, 8, 1, 5, 4, 4, 9, 6, 1, 8, 6, 0, 4, 5,\n",
       "       2, 7, 4, 6, 4, 5, 6, 0, 3, 2, 3, 6, 7, 1, 5, 1, 4, 7, 6, 5, 8, 5,\n",
       "       5, 1, 5, 2, 8, 8, 9, 9, 7, 6, 2, 2, 2, 3, 4, 8, 8, 3, 6, 0, 9, 7,\n",
       "       7, 0, 1, 0, 4, 5, 1, 5, 3, 6, 0, 4, 1, 0, 0, 3, 6, 5, 9, 7, 3, 5,\n",
       "       5, 9, 9, 8, 5, 3, 3, 2, 0, 5, 8, 3, 4, 0, 2, 4, 6, 4, 3, 4, 5, 0,\n",
       "       5, 2, 1, 3, 1, 4, 1, 1, 7, 0, 1, 5, 2, 1, 2, 8, 7, 0, 6, 4, 8, 8,\n",
       "       5, 1, 8, 4, 5, 8, 7, 9, 8, 6, 0, 6, 2, 0, 7, 9, 8, 9, 5, 2, 7, 7,\n",
       "       1, 8, 7, 4, 3, 8, 3, 5])"
      ]
     },
     "execution_count": 24,
     "metadata": {},
     "output_type": "execute_result"
    }
   ],
   "source": [
    "np.argmax(dlsvm.predict(X_test), axis=-1)"
   ]
  }
 ],
 "metadata": {
  "jupytext": {
   "text_representation": {
    "extension": ".py",
    "format_name": "light",
    "format_version": "1.5",
    "jupytext_version": "1.4.2"
   }
  },
  "kernelspec": {
   "display_name": "Python 3",
   "language": "python",
   "name": "python3"
  },
  "language_info": {
   "codemirror_mode": {
    "name": "ipython",
    "version": 3
   },
   "file_extension": ".py",
   "mimetype": "text/x-python",
   "name": "python",
   "nbconvert_exporter": "python",
   "pygments_lexer": "ipython3",
   "version": "3.6.8"
  }
 },
 "nbformat": 4,
 "nbformat_minor": 4
}
