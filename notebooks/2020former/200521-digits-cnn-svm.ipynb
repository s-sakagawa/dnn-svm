{
 "cells": [
  {
   "cell_type": "code",
   "execution_count": 1,
   "metadata": {},
   "outputs": [],
   "source": [
    "from pathlib import Path\n",
    "from typing import Union, Callable\n",
    "\n",
    "import numpy as np\n",
    "import matplotlib.pyplot as plt\n",
    "import pandas as pd\n",
    "import seaborn as sns\n",
    "import tensorflow as tf\n",
    "import tensorflow.keras as tfk\n",
    "from sklearn import datasets\n",
    "from sklearn.externals import joblib\n",
    "from sklearn.metrics import classification_report\n",
    "from sklearn.model_selection import train_test_split\n",
    "\n",
    "from dlsvm.models import DnnSvm\n",
    "from dlsvm.tools import build_model, label_2_pn"
   ]
  },
  {
   "cell_type": "code",
   "execution_count": 2,
   "metadata": {},
   "outputs": [],
   "source": [
    "out = Path('./0521_digits_cnn_svm')\n",
    "if not out.exists():\n",
    "    out.mkdir(parents=True)"
   ]
  },
  {
   "cell_type": "code",
   "execution_count": 3,
   "metadata": {},
   "outputs": [],
   "source": [
    "sns.set()"
   ]
  },
  {
   "cell_type": "markdown",
   "metadata": {},
   "source": [
    "### Load dataset"
   ]
  },
  {
   "cell_type": "code",
   "execution_count": 4,
   "metadata": {},
   "outputs": [],
   "source": [
    "digits = datasets.load_digits()"
   ]
  },
  {
   "cell_type": "code",
   "execution_count": 5,
   "metadata": {},
   "outputs": [],
   "source": [
    "digits = datasets.load_digits()\n",
    "X = digits.data.astype(np.float32).reshape(-1, 8, 8, 1)\n",
    "y = digits.target.astype(np.float32)"
   ]
  },
  {
   "cell_type": "code",
   "execution_count": 6,
   "metadata": {},
   "outputs": [],
   "source": [
    "X_train, X_test, y_train, y_test = train_test_split(X, y, test_size=0.2, random_state=42)\n",
    "\n",
    "X_train_, X_train_val, y_train_, y_train_val = train_test_split(X_train, y_train, test_size=0.2, random_state=42)"
   ]
  },
  {
   "cell_type": "code",
   "execution_count": 7,
   "metadata": {},
   "outputs": [],
   "source": [
    "y_train_ = label_2_pn(y_train_)\n",
    "y_train_val = label_2_pn(y_train_val)"
   ]
  },
  {
   "cell_type": "markdown",
   "metadata": {},
   "source": [
    "### Build model"
   ]
  },
  {
   "cell_type": "code",
   "execution_count": 8,
   "metadata": {},
   "outputs": [],
   "source": [
    "n_class=len(digits.target_names)\n",
    "n_h=64\n",
    "activation='relu'\n",
    "kernel_initializer='he_uniform'\n",
    "output_function = 'linear'"
   ]
  },
  {
   "cell_type": "code",
   "execution_count": 9,
   "metadata": {},
   "outputs": [],
   "source": [
    "cnn = tfk.Sequential(\n",
    "    [\n",
    "        tfk.layers.Conv2D(\n",
    "            input_shape=(8, 8, 1),\n",
    "            filters=16,\n",
    "            kernel_size=(3, 3),\n",
    "            padding='same',\n",
    "        ),\n",
    "        tfk.layers.Flatten(),\n",
    "        tfk.layers.Dense(\n",
    "            n_h,\n",
    "            kernel_initializer=kernel_initializer,\n",
    "            activation=activation\n",
    "        ),\n",
    "        tfk.layers.Dense(\n",
    "            n_class,\n",
    "            kernel_initializer=kernel_initializer,\n",
    "            activation=output_function\n",
    "        )\n",
    "    ]\n",
    ")"
   ]
  },
  {
   "cell_type": "code",
   "execution_count": 10,
   "metadata": {},
   "outputs": [
    {
     "name": "stdout",
     "output_type": "stream",
     "text": [
      "Model: \"sequential\"\n",
      "_________________________________________________________________\n",
      "Layer (type)                 Output Shape              Param #   \n",
      "=================================================================\n",
      "conv2d (Conv2D)              (None, 8, 8, 16)          160       \n",
      "_________________________________________________________________\n",
      "flatten (Flatten)            (None, 1024)              0         \n",
      "_________________________________________________________________\n",
      "dense (Dense)                (None, 64)                65600     \n",
      "_________________________________________________________________\n",
      "dense_1 (Dense)              (None, 10)                650       \n",
      "=================================================================\n",
      "Total params: 66,410\n",
      "Trainable params: 66,410\n",
      "Non-trainable params: 0\n",
      "_________________________________________________________________\n"
     ]
    }
   ],
   "source": [
    "cnn.summary()"
   ]
  },
  {
   "cell_type": "code",
   "execution_count": 11,
   "metadata": {},
   "outputs": [],
   "source": [
    "dlsvm = build_model(\n",
    "    n_class=n_class,\n",
    "    model=cnn,\n",
    "    penalty=1.,\n",
    "    softmax=False\n",
    ")"
   ]
  },
  {
   "cell_type": "code",
   "execution_count": 12,
   "metadata": {},
   "outputs": [],
   "source": [
    "batch_size = 64\n",
    "epochs = 50\n",
    "learning_rate = 1e-3\n",
    "patience = 5\n",
    "loss = dlsvm.loss_l2_svm"
   ]
  },
  {
   "cell_type": "code",
   "execution_count": 13,
   "metadata": {},
   "outputs": [],
   "source": [
    "optimizer = tf.keras.optimizers.Adam(learning_rate=learning_rate)\n",
    "dlsvm.compile(optimizer=optimizer, loss=loss, metrics=['acc'])"
   ]
  },
  {
   "cell_type": "code",
   "execution_count": 14,
   "metadata": {},
   "outputs": [
    {
     "name": "stdout",
     "output_type": "stream",
     "text": [
      "WARNING:tensorflow:`period` argument is deprecated. Please use `save_freq` to specify the frequency in number of samples seen.\n"
     ]
    }
   ],
   "source": [
    "es_cb = tfk.callbacks.EarlyStopping(\n",
    "    monitor='val_loss', patience=patience, mode='auto'\n",
    ")\n",
    "tb_cb = tfk.callbacks.TensorBoard(log_dir=str(out))\n",
    "cl_cb = tfk.callbacks.CSVLogger(\n",
    "    str(out.joinpath('train.log.csv')), separator=',', append=False\n",
    ")\n",
    "cp_cb = tfk.callbacks.ModelCheckpoint(\n",
    "    str(out.joinpath('model.weights.h5')), monitor='val_acc', verbose=0,\n",
    "    save_best_only=True, save_weights_only=False, mode='auto', period=1\n",
    ")"
   ]
  },
  {
   "cell_type": "markdown",
   "metadata": {},
   "source": [
    "### Train model"
   ]
  },
  {
   "cell_type": "code",
   "execution_count": 15,
   "metadata": {},
   "outputs": [
    {
     "name": "stdout",
     "output_type": "stream",
     "text": [
      "Train on 1149 samples, validate on 288 samples\n",
      "Epoch 1/50\n",
      "1149/1149 [==============================] - 1s 1ms/sample - loss: 1.7207 - acc: 0.4413 - val_loss: 0.3393 - val_acc: 0.6875\n",
      "Epoch 2/50\n",
      "1149/1149 [==============================] - 0s 377us/sample - loss: 0.1859 - acc: 0.8590 - val_loss: 0.1362 - val_acc: 0.9062\n",
      "Epoch 3/50\n",
      "1149/1149 [==============================] - 1s 464us/sample - loss: 0.0939 - acc: 0.9278 - val_loss: 0.0950 - val_acc: 0.9306\n",
      "Epoch 4/50\n",
      "1149/1149 [==============================] - 0s 422us/sample - loss: 0.0732 - acc: 0.9452 - val_loss: 0.0935 - val_acc: 0.9340\n",
      "Epoch 5/50\n",
      "1149/1149 [==============================] - 1s 465us/sample - loss: 0.0593 - acc: 0.9626 - val_loss: 0.0759 - val_acc: 0.9444\n",
      "Epoch 6/50\n",
      "1149/1149 [==============================] - 0s 207us/sample - loss: 0.0508 - acc: 0.9730 - val_loss: 0.0620 - val_acc: 0.9653\n",
      "Epoch 7/50\n",
      "1149/1149 [==============================] - 0s 166us/sample - loss: 0.0445 - acc: 0.9730 - val_loss: 0.0598 - val_acc: 0.9514\n",
      "Epoch 8/50\n",
      "1149/1149 [==============================] - 0s 241us/sample - loss: 0.0401 - acc: 0.9739 - val_loss: 0.0554 - val_acc: 0.9618\n",
      "Epoch 9/50\n",
      "1149/1149 [==============================] - 0s 204us/sample - loss: 0.0371 - acc: 0.9817 - val_loss: 0.0527 - val_acc: 0.9688\n",
      "Epoch 10/50\n",
      "1149/1149 [==============================] - 0s 178us/sample - loss: 0.0342 - acc: 0.9843 - val_loss: 0.0529 - val_acc: 0.9653\n",
      "Epoch 11/50\n",
      "1149/1149 [==============================] - 0s 226us/sample - loss: 0.0337 - acc: 0.9878 - val_loss: 0.0497 - val_acc: 0.9688\n",
      "Epoch 12/50\n",
      "1149/1149 [==============================] - 0s 219us/sample - loss: 0.0302 - acc: 0.9922 - val_loss: 0.0481 - val_acc: 0.9722\n",
      "Epoch 13/50\n",
      "1149/1149 [==============================] - 0s 244us/sample - loss: 0.0277 - acc: 0.9913 - val_loss: 0.0476 - val_acc: 0.9722\n",
      "Epoch 14/50\n",
      "1149/1149 [==============================] - 0s 212us/sample - loss: 0.0261 - acc: 0.9939 - val_loss: 0.0479 - val_acc: 0.9688\n",
      "Epoch 15/50\n",
      "1149/1149 [==============================] - 0s 174us/sample - loss: 0.0252 - acc: 0.9948 - val_loss: 0.0450 - val_acc: 0.9688\n",
      "Epoch 16/50\n",
      "1149/1149 [==============================] - 0s 187us/sample - loss: 0.0245 - acc: 0.9939 - val_loss: 0.0490 - val_acc: 0.9618\n",
      "Epoch 17/50\n",
      "1149/1149 [==============================] - 0s 171us/sample - loss: 0.0241 - acc: 0.9965 - val_loss: 0.0424 - val_acc: 0.9722\n",
      "Epoch 18/50\n",
      "1149/1149 [==============================] - 0s 180us/sample - loss: 0.0236 - acc: 0.9948 - val_loss: 0.0435 - val_acc: 0.9688\n",
      "Epoch 19/50\n",
      "1149/1149 [==============================] - 0s 230us/sample - loss: 0.0225 - acc: 0.9956 - val_loss: 0.0422 - val_acc: 0.9757\n",
      "Epoch 20/50\n",
      "1149/1149 [==============================] - 0s 162us/sample - loss: 0.0215 - acc: 0.9965 - val_loss: 0.0457 - val_acc: 0.9722\n",
      "Epoch 21/50\n",
      "1149/1149 [==============================] - 0s 206us/sample - loss: 0.0201 - acc: 0.9974 - val_loss: 0.0404 - val_acc: 0.9792\n",
      "Epoch 22/50\n",
      "1149/1149 [==============================] - 0s 188us/sample - loss: 0.0207 - acc: 0.9983 - val_loss: 0.0417 - val_acc: 0.9688\n",
      "Epoch 23/50\n",
      "1149/1149 [==============================] - 0s 166us/sample - loss: 0.0205 - acc: 0.9983 - val_loss: 0.0428 - val_acc: 0.9792\n",
      "Epoch 24/50\n",
      "1149/1149 [==============================] - 0s 189us/sample - loss: 0.0208 - acc: 0.9965 - val_loss: 0.0412 - val_acc: 0.9826\n",
      "Epoch 25/50\n",
      "1149/1149 [==============================] - 0s 195us/sample - loss: 0.0200 - acc: 0.9983 - val_loss: 0.0460 - val_acc: 0.9653\n",
      "Epoch 26/50\n",
      "1149/1149 [==============================] - 0s 166us/sample - loss: 0.0177 - acc: 0.9983 - val_loss: 0.0452 - val_acc: 0.9688\n",
      "Epoch 27/50\n",
      "1149/1149 [==============================] - 0s 163us/sample - loss: 0.0171 - acc: 0.9983 - val_loss: 0.0402 - val_acc: 0.9688\n",
      "Epoch 28/50\n",
      "1149/1149 [==============================] - 0s 163us/sample - loss: 0.0166 - acc: 0.9983 - val_loss: 0.0432 - val_acc: 0.9722\n",
      "Epoch 29/50\n",
      "1149/1149 [==============================] - 0s 274us/sample - loss: 0.0169 - acc: 0.9991 - val_loss: 0.0425 - val_acc: 0.9618\n",
      "Epoch 30/50\n",
      "1149/1149 [==============================] - 0s 211us/sample - loss: 0.0156 - acc: 0.9991 - val_loss: 0.0411 - val_acc: 0.9722\n",
      "Epoch 31/50\n",
      "1149/1149 [==============================] - 0s 174us/sample - loss: 0.0159 - acc: 0.9991 - val_loss: 0.0446 - val_acc: 0.9618\n",
      "Epoch 32/50\n",
      "1149/1149 [==============================] - 0s 178us/sample - loss: 0.0152 - acc: 0.9983 - val_loss: 0.0417 - val_acc: 0.9757\n",
      "Epoch 33/50\n",
      "1149/1149 [==============================] - 0s 173us/sample - loss: 0.0147 - acc: 1.0000 - val_loss: 0.0434 - val_acc: 0.9688\n",
      "Epoch 34/50\n",
      "1149/1149 [==============================] - 0s 195us/sample - loss: 0.0148 - acc: 1.0000 - val_loss: 0.0406 - val_acc: 0.9757\n",
      "Epoch 35/50\n",
      "1149/1149 [==============================] - 0s 234us/sample - loss: 0.0145 - acc: 1.0000 - val_loss: 0.0416 - val_acc: 0.9792\n",
      "Epoch 36/50\n",
      "1149/1149 [==============================] - 0s 248us/sample - loss: 0.0147 - acc: 0.9991 - val_loss: 0.0426 - val_acc: 0.9653\n",
      "Epoch 37/50\n",
      "1149/1149 [==============================] - 0s 167us/sample - loss: 0.0141 - acc: 0.9991 - val_loss: 0.0413 - val_acc: 0.9757\n",
      "Epoch 38/50\n",
      "1149/1149 [==============================] - 0s 176us/sample - loss: 0.0139 - acc: 1.0000 - val_loss: 0.0424 - val_acc: 0.9722\n",
      "Epoch 39/50\n",
      "1149/1149 [==============================] - 0s 188us/sample - loss: 0.0135 - acc: 1.0000 - val_loss: 0.0416 - val_acc: 0.9688\n",
      "Epoch 40/50\n",
      "1149/1149 [==============================] - ETA: 0s - loss: 0.0135 - acc: 1.000 - 0s 181us/sample - loss: 0.0134 - acc: 1.0000 - val_loss: 0.0421 - val_acc: 0.9722\n",
      "Epoch 41/50\n",
      "1149/1149 [==============================] - 0s 163us/sample - loss: 0.0134 - acc: 0.9991 - val_loss: 0.0405 - val_acc: 0.9792\n",
      "Epoch 42/50\n",
      "1149/1149 [==============================] - 0s 172us/sample - loss: 0.0134 - acc: 1.0000 - val_loss: 0.0415 - val_acc: 0.9688\n",
      "Epoch 43/50\n",
      "1149/1149 [==============================] - ETA: 0s - loss: 0.0130 - acc: 1.000 - 0s 173us/sample - loss: 0.0129 - acc: 1.0000 - val_loss: 0.0425 - val_acc: 0.9757\n",
      "Epoch 44/50\n",
      "1149/1149 [==============================] - 0s 174us/sample - loss: 0.0129 - acc: 1.0000 - val_loss: 0.0412 - val_acc: 0.9757\n",
      "Epoch 45/50\n",
      "1149/1149 [==============================] - 0s 175us/sample - loss: 0.0126 - acc: 1.0000 - val_loss: 0.0421 - val_acc: 0.9757\n",
      "Epoch 46/50\n",
      "1149/1149 [==============================] - 0s 189us/sample - loss: 0.0126 - acc: 1.0000 - val_loss: 0.0410 - val_acc: 0.9722\n",
      "Epoch 47/50\n",
      "1149/1149 [==============================] - 0s 177us/sample - loss: 0.0126 - acc: 1.0000 - val_loss: 0.0421 - val_acc: 0.9757\n",
      "Epoch 48/50\n",
      "1149/1149 [==============================] - 0s 172us/sample - loss: 0.0125 - acc: 1.0000 - val_loss: 0.0429 - val_acc: 0.9688\n",
      "Epoch 49/50\n",
      "1149/1149 [==============================] - 0s 166us/sample - loss: 0.0123 - acc: 1.0000 - val_loss: 0.0423 - val_acc: 0.9688\n",
      "Epoch 50/50\n",
      "1149/1149 [==============================] - 0s 178us/sample - loss: 0.0123 - acc: 1.0000 - val_loss: 0.0412 - val_acc: 0.9826\n"
     ]
    }
   ],
   "source": [
    "history = dlsvm.fit(\n",
    "    *(X_train_, y_train_),\n",
    "    validation_data=(X_train_val, y_train_val),\n",
    "    batch_size=batch_size,\n",
    "    epochs=epochs,\n",
    "    callbacks=[tb_cb, cl_cb, cp_cb]\n",
    ")"
   ]
  },
  {
   "cell_type": "code",
   "execution_count": 16,
   "metadata": {},
   "outputs": [],
   "source": [
    "df_result = pd.DataFrame(history.history)"
   ]
  },
  {
   "cell_type": "code",
   "execution_count": 17,
   "metadata": {},
   "outputs": [
    {
     "data": {
      "image/png": "[encoded data removed]",
      "text/plain": [
       "<Figure size 432x288 with 1 Axes>"
      ]
     },
     "metadata": {},
     "output_type": "display_data"
    }
   ],
   "source": [
    "sns.lineplot(data=df_result[['acc', 'val_acc']])\n",
    "plt.xlabel('epoch')\n",
    "plt.ylabel('acc')\n",
    "plt.savefig(out.joinpath('acc_logs.pdf'))"
   ]
  },
  {
   "cell_type": "code",
   "execution_count": 18,
   "metadata": {},
   "outputs": [
    {
     "data": {
      "image/png": "[encoded data removed]",
      "text/plain": [
       "<Figure size 432x288 with 1 Axes>"
      ]
     },
     "metadata": {},
     "output_type": "display_data"
    }
   ],
   "source": [
    "sns.lineplot(data=df_result[['loss', 'val_loss']])\n",
    "plt.xlabel('epoch')\n",
    "plt.ylabel('loss')\n",
    "plt.savefig(out.joinpath('loss_logs.pdf'))"
   ]
  },
  {
   "cell_type": "code",
   "execution_count": 19,
   "metadata": {},
   "outputs": [],
   "source": [
    "dlsvm.load_weights(str(out.joinpath('model.weights.h5')))"
   ]
  },
  {
   "cell_type": "code",
   "execution_count": 20,
   "metadata": {},
   "outputs": [
    {
     "name": "stdout",
     "output_type": "stream",
     "text": [
      "Model: \"sequential\"\n",
      "_________________________________________________________________\n",
      "Layer (type)                 Output Shape              Param #   \n",
      "=================================================================\n",
      "conv2d (Conv2D)              (None, 8, 8, 16)          160       \n",
      "_________________________________________________________________\n",
      "flatten (Flatten)            (None, 1024)              0         \n",
      "_________________________________________________________________\n",
      "dense (Dense)                (None, 64)                65600     \n",
      "_________________________________________________________________\n",
      "dense_1 (Dense)              (None, 10)                650       \n",
      "=================================================================\n",
      "Total params: 66,410\n",
      "Trainable params: 66,410\n",
      "Non-trainable params: 0\n",
      "_________________________________________________________________\n"
     ]
    }
   ],
   "source": [
    "dlsvm.model.summary()"
   ]
  },
  {
   "cell_type": "markdown",
   "metadata": {},
   "source": [
    "### Performance of model"
   ]
  },
  {
   "cell_type": "code",
   "execution_count": 21,
   "metadata": {},
   "outputs": [
    {
     "name": "stdout",
     "output_type": "stream",
     "text": [
      "Train perfomance of model\n",
      "             0.0         1.0         2.0         3.0         4.0         5.0  \\\n",
      "f1-score     1.0    0.987179    0.993007    0.990033    0.996283    0.992537   \n",
      "precision    1.0    0.974684    1.000000    0.980263    1.000000    1.000000   \n",
      "recall       1.0    1.000000    0.986111    1.000000    0.992593    0.985185   \n",
      "support    145.0  154.000000  144.000000  149.000000  135.000000  135.000000   \n",
      "\n",
      "             6.0         7.0         8.0         9.0    micro avg  \\\n",
      "f1-score     1.0    0.996564    0.989474    0.992857     0.993737   \n",
      "precision    1.0    0.993151    1.000000    0.992857     0.993737   \n",
      "recall       1.0    1.000000    0.979167    0.992857     0.993737   \n",
      "support    146.0  145.000000  144.000000  140.000000  1437.000000   \n",
      "\n",
      "             macro avg  weighted avg  \n",
      "f1-score      0.993793      0.993744  \n",
      "precision     0.994095      0.993853  \n",
      "recall        0.993591      0.993737  \n",
      "support    1437.000000   1437.000000  \n"
     ]
    }
   ],
   "source": [
    "df_train = pd.DataFrame(\n",
    "    classification_report(y_pred=np.argmax(dlsvm.predict(X_train), axis=-1), y_true=y_train, output_dict=True)\n",
    ")\n",
    "print('Train perfomance of model')\n",
    "print(df_train)\n",
    "df_train.to_csv(out.joinpath('train-performance.csv'))"
   ]
  },
  {
   "cell_type": "code",
   "execution_count": 22,
   "metadata": {},
   "outputs": [
    {
     "name": "stdout",
     "output_type": "stream",
     "text": [
      "Test perfomance of model\n",
      "                 0.0        1.0   2.0        3.0   4.0        5.0        6.0  \\\n",
      "f1-score    0.984615   0.982456   1.0   0.970588   1.0   0.957447   0.971429   \n",
      "precision   1.000000   0.965517   1.0   0.970588   1.0   0.957447   0.971429   \n",
      "recall      0.969697   1.000000   1.0   0.970588   1.0   0.957447   0.971429   \n",
      "support    33.000000  28.000000  33.0  34.000000  46.0  47.000000  35.000000   \n",
      "\n",
      "                 7.0        8.0        9.0   micro avg   macro avg  \\\n",
      "f1-score    0.970588   0.949153   0.987654    0.977778    0.977393   \n",
      "precision   0.970588   0.965517   0.975610    0.977778    0.977670   \n",
      "recall      0.970588   0.933333   1.000000    0.977778    0.977308   \n",
      "support    34.000000  30.000000  40.000000  360.000000  360.000000   \n",
      "\n",
      "           weighted avg  \n",
      "f1-score       0.977727  \n",
      "precision      0.977846  \n",
      "recall         0.977778  \n",
      "support      360.000000  \n"
     ]
    }
   ],
   "source": [
    "df_test = pd.DataFrame(\n",
    "    classification_report(y_pred=np.argmax(dlsvm.predict(X_test), axis=-1), y_true=y_test, output_dict=True)\n",
    ")\n",
    "print('Test perfomance of model')\n",
    "print(df_test)\n",
    "df_test.to_csv(out.joinpath('test-performance.csv'))"
   ]
  },
  {
   "cell_type": "code",
   "execution_count": 23,
   "metadata": {},
   "outputs": [
    {
     "data": {
      "text/plain": [
       "array([6, 0, 0, ..., 2, 7, 1])"
      ]
     },
     "execution_count": 23,
     "metadata": {},
     "output_type": "execute_result"
    }
   ],
   "source": [
    "np.argmax(dlsvm.predict(X_train), axis=-1)"
   ]
  },
  {
   "cell_type": "code",
   "execution_count": 24,
   "metadata": {},
   "outputs": [
    {
     "data": {
      "text/plain": [
       "array([6, 9, 3, 7, 2, 1, 5, 2, 5, 2, 1, 9, 4, 0, 4, 2, 3, 7, 8, 8, 4, 3,\n",
       "       9, 7, 5, 6, 3, 5, 6, 3, 4, 9, 1, 4, 4, 6, 9, 4, 7, 6, 6, 9, 1, 3,\n",
       "       6, 1, 3, 0, 6, 5, 5, 1, 9, 5, 6, 0, 9, 0, 0, 1, 7, 4, 5, 2, 4, 5,\n",
       "       7, 0, 7, 5, 9, 3, 5, 4, 7, 0, 4, 5, 5, 9, 9, 0, 2, 3, 8, 0, 6, 4,\n",
       "       4, 9, 1, 2, 8, 3, 5, 2, 9, 0, 4, 4, 4, 3, 5, 3, 1, 3, 5, 9, 4, 2,\n",
       "       7, 7, 4, 4, 1, 9, 2, 7, 8, 7, 2, 6, 9, 4, 0, 7, 2, 7, 5, 8, 7, 5,\n",
       "       7, 9, 0, 6, 6, 4, 2, 8, 0, 9, 4, 6, 9, 9, 6, 9, 0, 5, 5, 6, 6, 0,\n",
       "       6, 4, 3, 9, 3, 9, 7, 2, 9, 0, 4, 5, 3, 6, 5, 9, 9, 8, 4, 2, 1, 3,\n",
       "       7, 7, 2, 2, 3, 9, 8, 0, 3, 2, 2, 5, 6, 9, 9, 4, 1, 5, 4, 2, 3, 6,\n",
       "       4, 8, 5, 9, 5, 7, 1, 9, 4, 8, 1, 5, 4, 4, 9, 6, 1, 8, 6, 0, 4, 5,\n",
       "       2, 7, 4, 6, 4, 5, 6, 0, 3, 2, 3, 6, 7, 1, 5, 1, 4, 7, 6, 5, 8, 5,\n",
       "       5, 1, 8, 2, 8, 8, 9, 9, 7, 6, 2, 2, 2, 3, 4, 8, 8, 3, 6, 0, 9, 7,\n",
       "       7, 0, 1, 0, 4, 5, 1, 5, 3, 6, 0, 4, 1, 0, 0, 3, 6, 5, 9, 7, 3, 5,\n",
       "       5, 9, 9, 8, 5, 3, 3, 2, 0, 5, 8, 3, 4, 0, 2, 4, 6, 4, 3, 4, 5, 0,\n",
       "       5, 2, 1, 3, 1, 4, 1, 1, 7, 0, 1, 5, 2, 1, 2, 8, 7, 0, 6, 4, 8, 8,\n",
       "       5, 1, 8, 4, 5, 8, 7, 9, 8, 6, 0, 6, 2, 0, 7, 9, 8, 9, 5, 2, 7, 7,\n",
       "       1, 8, 7, 4, 3, 8, 3, 5])"
      ]
     },
     "execution_count": 24,
     "metadata": {},
     "output_type": "execute_result"
    }
   ],
   "source": [
    "np.argmax(dlsvm.predict(X_test), axis=-1)"
   ]
  }
 ],
 "metadata": {
  "jupytext": {
   "text_representation": {
    "extension": ".py",
    "format_name": "light",
    "format_version": "1.5",
    "jupytext_version": "1.4.2"
   }
  },
  "kernelspec": {
   "display_name": "Python 3",
   "language": "python",
   "name": "python3"
  },
  "language_info": {
   "codemirror_mode": {
    "name": "ipython",
    "version": 3
   },
   "file_extension": ".py",
   "mimetype": "text/x-python",
   "name": "python",
   "nbconvert_exporter": "python",
   "pygments_lexer": "ipython3",
   "version": "3.6.8"
  }
 },
 "nbformat": 4,
 "nbformat_minor": 4
}
