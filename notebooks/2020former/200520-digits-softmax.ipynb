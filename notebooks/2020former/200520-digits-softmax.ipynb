{
 "cells": [
  {
   "cell_type": "code",
   "execution_count": 1,
   "metadata": {},
   "outputs": [],
   "source": [
    "from pathlib import Path\n",
    "from typing import Union, Callable\n",
    "\n",
    "import numpy as np\n",
    "import matplotlib.pyplot as plt\n",
    "import pandas as pd\n",
    "import seaborn as sns\n",
    "import tensorflow as tf\n",
    "import tensorflow.keras as tfk\n",
    "from sklearn import datasets\n",
    "from sklearn.externals import joblib\n",
    "from sklearn.metrics import classification_report\n",
    "from sklearn.model_selection import train_test_split\n",
    "\n",
    "from dlsvm.models import DnnSvm\n",
    "from dlsvm.tools import build_model, label_2_onehot"
   ]
  },
  {
   "cell_type": "code",
   "execution_count": 2,
   "metadata": {},
   "outputs": [],
   "source": [
    "out = Path('./0520_digits_softmax')\n",
    "if not out.exists():\n",
    "    out.mkdir(parents=True)"
   ]
  },
  {
   "cell_type": "code",
   "execution_count": 3,
   "metadata": {},
   "outputs": [],
   "source": [
    "sns.set()"
   ]
  },
  {
   "cell_type": "markdown",
   "metadata": {},
   "source": [
    "### Load dataset"
   ]
  },
  {
   "cell_type": "code",
   "execution_count": 4,
   "metadata": {},
   "outputs": [],
   "source": [
    "digits = datasets.load_digits()"
   ]
  },
  {
   "cell_type": "code",
   "execution_count": 5,
   "metadata": {},
   "outputs": [],
   "source": [
    "digits = datasets.load_digits()\n",
    "X = digits.data.astype(np.float32)\n",
    "y = digits.target.astype(np.float32)"
   ]
  },
  {
   "cell_type": "code",
   "execution_count": 6,
   "metadata": {},
   "outputs": [],
   "source": [
    "X_train, X_test, y_train, y_test = train_test_split(X, y, test_size=0.2, random_state=42)\n",
    "\n",
    "X_train_, X_train_val, y_train_, y_train_val = train_test_split(X_train, y_train, test_size=0.2, random_state=42)"
   ]
  },
  {
   "cell_type": "code",
   "execution_count": 7,
   "metadata": {},
   "outputs": [],
   "source": [
    "y_train_ = label_2_onehot(y_train_)\n",
    "y_train_val = label_2_onehot(y_train_val)"
   ]
  },
  {
   "cell_type": "markdown",
   "metadata": {},
   "source": [
    "### Build model"
   ]
  },
  {
   "cell_type": "code",
   "execution_count": 8,
   "metadata": {},
   "outputs": [],
   "source": [
    "dlsvm = build_model(\n",
    "    n_class=len(digits.target_names),\n",
    "    n_in=len(digits.data[0]),\n",
    "    n_h=128,\n",
    "    activation='relu',\n",
    "    kernel_initializer='he_uniform',\n",
    "    penalty=1.,\n",
    "    softmax=True\n",
    ")"
   ]
  },
  {
   "cell_type": "code",
   "execution_count": 9,
   "metadata": {},
   "outputs": [],
   "source": [
    "batch_size = 64\n",
    "epochs = 50\n",
    "learning_rate = 1e-3\n",
    "patience = 5\n",
    "loss = 'categorical_crossentropy'"
   ]
  },
  {
   "cell_type": "code",
   "execution_count": 10,
   "metadata": {},
   "outputs": [],
   "source": [
    "optimizer = tf.keras.optimizers.Adam(learning_rate=learning_rate)\n",
    "dlsvm.compile(optimizer=optimizer, loss=loss, metrics=['acc'])"
   ]
  },
  {
   "cell_type": "code",
   "execution_count": 11,
   "metadata": {},
   "outputs": [
    {
     "name": "stdout",
     "output_type": "stream",
     "text": [
      "WARNING:tensorflow:`period` argument is deprecated. Please use `save_freq` to specify the frequency in number of samples seen.\n"
     ]
    }
   ],
   "source": [
    "es_cb = tfk.callbacks.EarlyStopping(\n",
    "    monitor='val_loss', patience=patience, mode='auto'\n",
    ")\n",
    "tb_cb = tfk.callbacks.TensorBoard(log_dir=str(out))\n",
    "cl_cb = tfk.callbacks.CSVLogger(\n",
    "    str(out.joinpath('train.log.csv')), separator=',', append=False\n",
    ")\n",
    "cp_cb = tfk.callbacks.ModelCheckpoint(\n",
    "    str(out.joinpath('model.weights.h5')), monitor='val_acc', verbose=0,\n",
    "    save_best_only=True, save_weights_only=False, mode='auto', period=1\n",
    ")"
   ]
  },
  {
   "cell_type": "markdown",
   "metadata": {},
   "source": [
    "### Train model"
   ]
  },
  {
   "cell_type": "code",
   "execution_count": 12,
   "metadata": {},
   "outputs": [
    {
     "name": "stdout",
     "output_type": "stream",
     "text": [
      "Train on 1149 samples, validate on 288 samples\n",
      "Epoch 1/50\n",
      "1149/1149 [==============================] - 1s 1ms/sample - loss: 9.1108 - acc: 0.2376 - val_loss: 4.4717 - val_acc: 0.3785\n",
      "Epoch 2/50\n",
      "1149/1149 [==============================] - 0s 152us/sample - loss: 2.5623 - acc: 0.5013 - val_loss: 1.4632 - val_acc: 0.6701\n",
      "Epoch 3/50\n",
      "1149/1149 [==============================] - 0s 161us/sample - loss: 1.0926 - acc: 0.7493 - val_loss: 0.8281 - val_acc: 0.7951\n",
      "Epoch 4/50\n",
      "1149/1149 [==============================] - 0s 169us/sample - loss: 0.6693 - acc: 0.8399 - val_loss: 0.5572 - val_acc: 0.8646\n",
      "Epoch 5/50\n",
      "1149/1149 [==============================] - 0s 168us/sample - loss: 0.4786 - acc: 0.8773 - val_loss: 0.4454 - val_acc: 0.8819\n",
      "Epoch 6/50\n",
      "1149/1149 [==============================] - 0s 139us/sample - loss: 0.3644 - acc: 0.8990 - val_loss: 0.3466 - val_acc: 0.8958\n",
      "Epoch 7/50\n",
      "1149/1149 [==============================] - ETA: 0s - loss: 0.2938 - acc: 0.924 - 0s 171us/sample - loss: 0.2861 - acc: 0.9234 - val_loss: 0.3028 - val_acc: 0.9062\n",
      "Epoch 8/50\n",
      "1149/1149 [==============================] - 0s 170us/sample - loss: 0.2375 - acc: 0.9278 - val_loss: 0.2672 - val_acc: 0.9236\n",
      "Epoch 9/50\n",
      "1149/1149 [==============================] - 0s 220us/sample - loss: 0.1954 - acc: 0.9452 - val_loss: 0.2339 - val_acc: 0.9271\n",
      "Epoch 10/50\n",
      "1149/1149 [==============================] - 0s 148us/sample - loss: 0.1580 - acc: 0.9539 - val_loss: 0.1839 - val_acc: 0.9375\n",
      "Epoch 11/50\n",
      "1149/1149 [==============================] - 0s 152us/sample - loss: 0.1365 - acc: 0.9643 - val_loss: 0.1710 - val_acc: 0.9375\n",
      "Epoch 12/50\n",
      "1149/1149 [==============================] - 0s 214us/sample - loss: 0.1124 - acc: 0.9739 - val_loss: 0.1549 - val_acc: 0.9479\n",
      "Epoch 13/50\n",
      "1149/1149 [==============================] - 0s 157us/sample - loss: 0.1000 - acc: 0.9739 - val_loss: 0.1397 - val_acc: 0.9514\n",
      "Epoch 14/50\n",
      "1149/1149 [==============================] - 0s 152us/sample - loss: 0.0844 - acc: 0.9835 - val_loss: 0.1232 - val_acc: 0.9479\n",
      "Epoch 15/50\n",
      "1149/1149 [==============================] - 1s 480us/sample - loss: 0.0730 - acc: 0.9887 - val_loss: 0.1268 - val_acc: 0.9444\n",
      "Epoch 16/50\n",
      "1149/1149 [==============================] - 0s 413us/sample - loss: 0.0657 - acc: 0.9913 - val_loss: 0.1099 - val_acc: 0.9549\n",
      "Epoch 17/50\n",
      "1149/1149 [==============================] - 0s 352us/sample - loss: 0.0564 - acc: 0.9904 - val_loss: 0.1003 - val_acc: 0.9653\n",
      "Epoch 18/50\n",
      "1149/1149 [==============================] - 0s 140us/sample - loss: 0.0519 - acc: 0.9922 - val_loss: 0.0983 - val_acc: 0.9618\n",
      "Epoch 19/50\n",
      "1149/1149 [==============================] - 0s 146us/sample - loss: 0.0473 - acc: 0.9930 - val_loss: 0.0914 - val_acc: 0.9653\n",
      "Epoch 20/50\n",
      "1149/1149 [==============================] - 0s 135us/sample - loss: 0.0418 - acc: 0.9939 - val_loss: 0.0857 - val_acc: 0.9653\n",
      "Epoch 21/50\n",
      "1149/1149 [==============================] - 0s 146us/sample - loss: 0.0402 - acc: 0.9939 - val_loss: 0.0868 - val_acc: 0.9653\n",
      "Epoch 22/50\n",
      "1149/1149 [==============================] - 0s 198us/sample - loss: 0.0346 - acc: 0.9956 - val_loss: 0.0835 - val_acc: 0.9688\n",
      "Epoch 23/50\n",
      "1149/1149 [==============================] - 0s 145us/sample - loss: 0.0322 - acc: 0.9956 - val_loss: 0.0719 - val_acc: 0.9757\n",
      "Epoch 24/50\n",
      "1149/1149 [==============================] - 0s 108us/sample - loss: 0.0300 - acc: 0.9956 - val_loss: 0.0735 - val_acc: 0.9722\n",
      "Epoch 25/50\n",
      "1149/1149 [==============================] - 0s 125us/sample - loss: 0.0260 - acc: 0.9974 - val_loss: 0.0732 - val_acc: 0.9722\n",
      "Epoch 26/50\n",
      "1149/1149 [==============================] - 0s 141us/sample - loss: 0.0233 - acc: 0.9956 - val_loss: 0.0678 - val_acc: 0.9722\n",
      "Epoch 27/50\n",
      "1149/1149 [==============================] - 0s 114us/sample - loss: 0.0218 - acc: 0.9965 - val_loss: 0.0747 - val_acc: 0.9722\n",
      "Epoch 28/50\n",
      "1149/1149 [==============================] - 0s 132us/sample - loss: 0.0205 - acc: 0.9965 - val_loss: 0.0686 - val_acc: 0.9722\n",
      "Epoch 29/50\n",
      "1149/1149 [==============================] - 0s 114us/sample - loss: 0.0179 - acc: 0.9983 - val_loss: 0.0669 - val_acc: 0.9722\n",
      "Epoch 30/50\n",
      "1149/1149 [==============================] - 0s 135us/sample - loss: 0.0170 - acc: 0.9983 - val_loss: 0.0673 - val_acc: 0.9722\n",
      "Epoch 31/50\n",
      "1149/1149 [==============================] - 1s 436us/sample - loss: 0.0161 - acc: 0.9974 - val_loss: 0.0601 - val_acc: 0.9792\n",
      "Epoch 32/50\n",
      "1149/1149 [==============================] - 0s 274us/sample - loss: 0.0160 - acc: 0.9983 - val_loss: 0.0645 - val_acc: 0.9722\n",
      "Epoch 33/50\n",
      "1149/1149 [==============================] - 0s 188us/sample - loss: 0.0133 - acc: 0.9991 - val_loss: 0.0602 - val_acc: 0.9722\n",
      "Epoch 34/50\n",
      "1149/1149 [==============================] - 0s 161us/sample - loss: 0.0125 - acc: 0.9991 - val_loss: 0.0609 - val_acc: 0.9722\n",
      "Epoch 35/50\n",
      "1149/1149 [==============================] - 0s 128us/sample - loss: 0.0117 - acc: 0.9991 - val_loss: 0.0605 - val_acc: 0.9722\n",
      "Epoch 36/50\n",
      "1149/1149 [==============================] - 0s 126us/sample - loss: 0.0109 - acc: 0.9991 - val_loss: 0.0579 - val_acc: 0.9722\n",
      "Epoch 37/50\n",
      "1149/1149 [==============================] - 0s 128us/sample - loss: 0.0104 - acc: 0.9991 - val_loss: 0.0557 - val_acc: 0.9722\n",
      "Epoch 38/50\n",
      "1149/1149 [==============================] - 0s 134us/sample - loss: 0.0100 - acc: 1.0000 - val_loss: 0.0548 - val_acc: 0.9722\n",
      "Epoch 39/50\n",
      "1149/1149 [==============================] - 0s 116us/sample - loss: 0.0098 - acc: 0.9991 - val_loss: 0.0579 - val_acc: 0.9722\n",
      "Epoch 40/50\n",
      "1149/1149 [==============================] - 0s 133us/sample - loss: 0.0089 - acc: 0.9991 - val_loss: 0.0567 - val_acc: 0.9722\n",
      "Epoch 41/50\n",
      "1149/1149 [==============================] - 0s 115us/sample - loss: 0.0081 - acc: 1.0000 - val_loss: 0.0549 - val_acc: 0.9722\n",
      "Epoch 42/50\n",
      "1149/1149 [==============================] - 0s 133us/sample - loss: 0.0080 - acc: 1.0000 - val_loss: 0.0550 - val_acc: 0.9722\n",
      "Epoch 43/50\n",
      "1149/1149 [==============================] - 0s 362us/sample - loss: 0.0075 - acc: 1.0000 - val_loss: 0.0524 - val_acc: 0.9722\n",
      "Epoch 44/50\n",
      "1149/1149 [==============================] - 0s 407us/sample - loss: 0.0070 - acc: 1.0000 - val_loss: 0.0527 - val_acc: 0.9722\n",
      "Epoch 45/50\n",
      "1149/1149 [==============================] - 1s 480us/sample - loss: 0.0067 - acc: 1.0000 - val_loss: 0.0545 - val_acc: 0.9722\n",
      "Epoch 46/50\n",
      "1149/1149 [==============================] - 0s 366us/sample - loss: 0.0064 - acc: 1.0000 - val_loss: 0.0544 - val_acc: 0.9722\n",
      "Epoch 47/50\n",
      "1149/1149 [==============================] - 0s 223us/sample - loss: 0.0061 - acc: 1.0000 - val_loss: 0.0517 - val_acc: 0.9792\n",
      "Epoch 48/50\n",
      "1149/1149 [==============================] - 0s 289us/sample - loss: 0.0058 - acc: 1.0000 - val_loss: 0.0521 - val_acc: 0.9757\n",
      "Epoch 49/50\n",
      "1149/1149 [==============================] - 0s 279us/sample - loss: 0.0056 - acc: 1.0000 - val_loss: 0.0514 - val_acc: 0.9792\n",
      "Epoch 50/50\n",
      "1149/1149 [==============================] - 0s 245us/sample - loss: 0.0053 - acc: 1.0000 - val_loss: 0.0501 - val_acc: 0.9792\n"
     ]
    }
   ],
   "source": [
    "history = dlsvm.fit(\n",
    "    *(X_train_, y_train_),\n",
    "    validation_data=(X_train_val, y_train_val),\n",
    "    batch_size=batch_size,\n",
    "    epochs=epochs,\n",
    "    callbacks=[tb_cb, cl_cb, cp_cb]\n",
    ")"
   ]
  },
  {
   "cell_type": "code",
   "execution_count": 13,
   "metadata": {},
   "outputs": [],
   "source": [
    "df_result = pd.DataFrame(history.history)"
   ]
  },
  {
   "cell_type": "code",
   "execution_count": 14,
   "metadata": {},
   "outputs": [
    {
     "data": {
      "image/png": "[encoded data removed]",
      "text/plain": [
       "<Figure size 432x288 with 1 Axes>"
      ]
     },
     "metadata": {},
     "output_type": "display_data"
    }
   ],
   "source": [
    "sns.lineplot(data=df_result[['acc', 'val_acc']])\n",
    "plt.xlabel('epoch')\n",
    "plt.ylabel('acc')\n",
    "plt.savefig(out.joinpath('acc_logs.pdf'))"
   ]
  },
  {
   "cell_type": "code",
   "execution_count": 15,
   "metadata": {},
   "outputs": [
    {
     "data": {
      "image/png": "[encoded data removed]",
      "text/plain": [
       "<Figure size 432x288 with 1 Axes>"
      ]
     },
     "metadata": {},
     "output_type": "display_data"
    }
   ],
   "source": [
    "sns.lineplot(data=df_result[['loss', 'val_loss']])\n",
    "plt.xlabel('epoch')\n",
    "plt.ylabel('loss')\n",
    "plt.savefig(out.joinpath('loss_logs.pdf'))"
   ]
  },
  {
   "cell_type": "code",
   "execution_count": 16,
   "metadata": {},
   "outputs": [],
   "source": [
    "dlsvm.load_weights(str(out.joinpath('model.weights.h5')))"
   ]
  },
  {
   "cell_type": "code",
   "execution_count": 17,
   "metadata": {},
   "outputs": [
    {
     "name": "stdout",
     "output_type": "stream",
     "text": [
      "Model: \"sequential\"\n",
      "_________________________________________________________________\n",
      "Layer (type)                 Output Shape              Param #   \n",
      "=================================================================\n",
      "dense (Dense)                (None, 128)               8320      \n",
      "_________________________________________________________________\n",
      "dense_1 (Dense)              (None, 10)                1290      \n",
      "=================================================================\n",
      "Total params: 9,610\n",
      "Trainable params: 9,610\n",
      "Non-trainable params: 0\n",
      "_________________________________________________________________\n"
     ]
    }
   ],
   "source": [
    "dlsvm.summary()"
   ]
  },
  {
   "cell_type": "markdown",
   "metadata": {},
   "source": [
    "### Performance of model"
   ]
  },
  {
   "cell_type": "code",
   "execution_count": 18,
   "metadata": {},
   "outputs": [
    {
     "name": "stdout",
     "output_type": "stream",
     "text": [
      "Train perfomance of model\n",
      "             0.0         1.0         2.0         3.0         4.0    5.0  \\\n",
      "f1-score     1.0    0.987097    0.996516    0.993333    0.988848    1.0   \n",
      "precision    1.0    0.980769    1.000000    0.986755    0.992537    1.0   \n",
      "recall       1.0    0.993506    0.993056    1.000000    0.985185    1.0   \n",
      "support    145.0  154.000000  144.000000  149.000000  135.000000  135.0   \n",
      "\n",
      "             6.0         7.0         8.0         9.0    micro avg  \\\n",
      "f1-score     1.0    0.996540    0.986111    0.996416     0.994433   \n",
      "precision    1.0    1.000000    0.986111    1.000000     0.994433   \n",
      "recall       1.0    0.993103    0.986111    0.992857     0.994433   \n",
      "support    146.0  145.000000  144.000000  140.000000  1437.000000   \n",
      "\n",
      "             macro avg  weighted avg  \n",
      "f1-score      0.994486      0.994439  \n",
      "precision     0.994617      0.994473  \n",
      "recall        0.994382      0.994433  \n",
      "support    1437.000000   1437.000000  \n"
     ]
    }
   ],
   "source": [
    "df_train = pd.DataFrame(\n",
    "    classification_report(y_pred=np.argmax(dlsvm.predict(X_train), axis=-1), y_true=y_train, output_dict=True)\n",
    ")\n",
    "print('Train perfomance of model')\n",
    "print(df_train)\n",
    "df_train.to_csv(out.joinpath('train-performance.csv'))"
   ]
  },
  {
   "cell_type": "code",
   "execution_count": 19,
   "metadata": {},
   "outputs": [
    {
     "name": "stdout",
     "output_type": "stream",
     "text": [
      "Test perfomance of model\n",
      "            0.0        1.0        2.0        3.0        4.0        5.0  \\\n",
      "f1-score    1.0   0.982456   0.927536   0.953846   0.989247   0.957447   \n",
      "precision   1.0   0.965517   0.888889   1.000000   0.978723   0.957447   \n",
      "recall      1.0   1.000000   0.969697   0.911765   1.000000   0.957447   \n",
      "support    33.0  28.000000  33.000000  34.000000  46.000000  47.000000   \n",
      "\n",
      "                 6.0   7.0        8.0        9.0   micro avg   macro avg  \\\n",
      "f1-score    0.985507   1.0   0.947368   0.975610    0.972222    0.971902   \n",
      "precision   1.000000   1.0   1.000000   0.952381    0.972222    0.974296   \n",
      "recall      0.971429   1.0   0.900000   1.000000    0.972222    0.971034   \n",
      "support    35.000000  34.0  30.000000  40.000000  360.000000  360.000000   \n",
      "\n",
      "           weighted avg  \n",
      "f1-score       0.972199  \n",
      "precision      0.973568  \n",
      "recall         0.972222  \n",
      "support      360.000000  \n"
     ]
    }
   ],
   "source": [
    "df_test = pd.DataFrame(\n",
    "    classification_report(y_pred=np.argmax(dlsvm.predict(X_test), axis=-1), y_true=y_test, output_dict=True)\n",
    ")\n",
    "print('Test perfomance of model')\n",
    "print(df_test)\n",
    "df_test.to_csv(out.joinpath('test-performance.csv'))"
   ]
  },
  {
   "cell_type": "code",
   "execution_count": 20,
   "metadata": {},
   "outputs": [
    {
     "data": {
      "text/plain": [
       "array([6, 0, 0, ..., 2, 7, 1])"
      ]
     },
     "execution_count": 20,
     "metadata": {},
     "output_type": "execute_result"
    }
   ],
   "source": [
    "np.argmax(dlsvm.predict(X_train), axis=-1)"
   ]
  },
  {
   "cell_type": "code",
   "execution_count": 21,
   "metadata": {},
   "outputs": [
    {
     "data": {
      "text/plain": [
       "array([6, 9, 3, 7, 2, 1, 5, 2, 5, 2, 1, 9, 4, 0, 4, 2, 3, 7, 8, 8, 4, 3,\n",
       "       9, 7, 5, 6, 3, 5, 6, 3, 4, 9, 1, 4, 4, 6, 9, 4, 7, 6, 6, 9, 1, 3,\n",
       "       6, 1, 3, 0, 6, 5, 5, 1, 9, 5, 6, 0, 9, 0, 0, 1, 0, 4, 5, 2, 4, 5,\n",
       "       7, 0, 7, 5, 9, 9, 5, 4, 7, 0, 4, 5, 5, 9, 9, 0, 2, 3, 8, 0, 6, 4,\n",
       "       4, 9, 1, 2, 8, 3, 5, 2, 9, 0, 4, 4, 4, 3, 5, 3, 1, 3, 5, 9, 4, 2,\n",
       "       7, 7, 4, 4, 1, 9, 2, 7, 8, 7, 2, 6, 9, 4, 0, 7, 2, 7, 5, 8, 7, 5,\n",
       "       7, 7, 0, 6, 6, 4, 2, 8, 0, 9, 4, 6, 9, 9, 6, 9, 0, 9, 5, 6, 6, 0,\n",
       "       6, 4, 2, 9, 3, 9, 7, 2, 9, 0, 4, 5, 3, 6, 5, 9, 9, 8, 4, 2, 1, 3,\n",
       "       7, 7, 2, 2, 3, 9, 8, 0, 3, 2, 2, 5, 6, 9, 9, 4, 1, 2, 4, 2, 3, 6,\n",
       "       4, 8, 5, 9, 5, 7, 2, 9, 4, 8, 1, 5, 4, 4, 9, 6, 1, 8, 6, 0, 4, 5,\n",
       "       2, 7, 4, 6, 4, 5, 6, 0, 3, 2, 3, 6, 7, 1, 5, 1, 4, 7, 6, 5, 8, 5,\n",
       "       5, 1, 4, 1, 8, 8, 9, 9, 7, 6, 2, 2, 2, 3, 4, 8, 5, 3, 6, 0, 9, 7,\n",
       "       7, 0, 1, 0, 4, 5, 1, 5, 3, 6, 0, 4, 1, 0, 0, 2, 6, 5, 9, 7, 3, 5,\n",
       "       5, 9, 9, 8, 5, 3, 3, 2, 0, 5, 8, 3, 4, 0, 2, 4, 6, 4, 3, 4, 5, 0,\n",
       "       5, 2, 1, 3, 1, 4, 1, 1, 7, 0, 1, 5, 2, 1, 2, 8, 7, 0, 6, 4, 8, 8,\n",
       "       5, 1, 8, 4, 5, 8, 7, 9, 8, 5, 0, 6, 2, 0, 7, 9, 8, 9, 5, 2, 7, 7,\n",
       "       1, 8, 7, 4, 3, 8, 3, 5])"
      ]
     },
     "execution_count": 21,
     "metadata": {},
     "output_type": "execute_result"
    }
   ],
   "source": [
    "np.argmax(dlsvm.predict(X_test), axis=-1)"
   ]
  }
 ],
 "metadata": {
  "jupytext": {
   "text_representation": {
    "extension": ".py",
    "format_name": "light",
    "format_version": "1.5",
    "jupytext_version": "1.4.2"
   }
  },
  "kernelspec": {
   "display_name": "Python 3",
   "language": "python",
   "name": "python3"
  },
  "language_info": {
   "codemirror_mode": {
    "name": "ipython",
    "version": 3
   },
   "file_extension": ".py",
   "mimetype": "text/x-python",
   "name": "python",
   "nbconvert_exporter": "python",
   "pygments_lexer": "ipython3",
   "version": "3.6.8"
  }
 },
 "nbformat": 4,
 "nbformat_minor": 4
}
