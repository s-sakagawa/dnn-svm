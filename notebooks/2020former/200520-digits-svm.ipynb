{
 "cells": [
  {
   "cell_type": "code",
   "execution_count": 1,
   "metadata": {},
   "outputs": [],
   "source": [
    "from pathlib import Path\n",
    "from typing import Union, Callable\n",
    "\n",
    "import numpy as np\n",
    "import matplotlib.pyplot as plt\n",
    "import pandas as pd\n",
    "import seaborn as sns\n",
    "import tensorflow as tf\n",
    "import tensorflow.keras as tfk\n",
    "from sklearn import datasets\n",
    "from sklearn.externals import joblib\n",
    "from sklearn.metrics import classification_report\n",
    "from sklearn.model_selection import train_test_split\n",
    "\n",
    "from dlsvm.models import DnnSvm\n",
    "from dlsvm.tools import build_model, label_2_pn"
   ]
  },
  {
   "cell_type": "code",
   "execution_count": 2,
   "metadata": {},
   "outputs": [],
   "source": [
    "out = Path('./0520_digits_svm')\n",
    "if not out.exists():\n",
    "    out.mkdir(parents=True)"
   ]
  },
  {
   "cell_type": "code",
   "execution_count": 3,
   "metadata": {},
   "outputs": [],
   "source": [
    "sns.set()"
   ]
  },
  {
   "cell_type": "markdown",
   "metadata": {},
   "source": [
    "### Load dataset"
   ]
  },
  {
   "cell_type": "code",
   "execution_count": 4,
   "metadata": {},
   "outputs": [],
   "source": [
    "digits = datasets.load_digits()"
   ]
  },
  {
   "cell_type": "code",
   "execution_count": 5,
   "metadata": {},
   "outputs": [],
   "source": [
    "digits = datasets.load_digits()\n",
    "X = digits.data.astype(np.float32)\n",
    "y = digits.target.astype(np.float32)"
   ]
  },
  {
   "cell_type": "code",
   "execution_count": 6,
   "metadata": {},
   "outputs": [],
   "source": [
    "X_train, X_test, y_train, y_test = train_test_split(X, y, test_size=0.2, random_state=42)\n",
    "\n",
    "X_train_, X_train_val, y_train_, y_train_val = train_test_split(X_train, y_train, test_size=0.2, random_state=42)"
   ]
  },
  {
   "cell_type": "code",
   "execution_count": 7,
   "metadata": {},
   "outputs": [],
   "source": [
    "y_train_ = label_2_pn(y_train_)\n",
    "y_train_val = label_2_pn(y_train_val)"
   ]
  },
  {
   "cell_type": "markdown",
   "metadata": {},
   "source": [
    "### Build model"
   ]
  },
  {
   "cell_type": "code",
   "execution_count": 8,
   "metadata": {},
   "outputs": [],
   "source": [
    "dlsvm = build_model(\n",
    "    n_class=len(digits.target_names),\n",
    "    n_in=len(digits.data[0]),\n",
    "    n_h=128,\n",
    "    activation='relu',\n",
    "    kernel_initializer='he_uniform',\n",
    "    penalty=1.,\n",
    "    softmax=False\n",
    ")"
   ]
  },
  {
   "cell_type": "code",
   "execution_count": 9,
   "metadata": {},
   "outputs": [],
   "source": [
    "batch_size = 64\n",
    "epochs = 50\n",
    "learning_rate = 1e-3\n",
    "patience = 5\n",
    "loss = dlsvm.loss_l2_svm"
   ]
  },
  {
   "cell_type": "code",
   "execution_count": 10,
   "metadata": {},
   "outputs": [],
   "source": [
    "optimizer = tf.keras.optimizers.Adam(learning_rate=learning_rate)\n",
    "dlsvm.compile(optimizer=optimizer, loss=loss, metrics=['acc'])"
   ]
  },
  {
   "cell_type": "code",
   "execution_count": 11,
   "metadata": {},
   "outputs": [
    {
     "name": "stdout",
     "output_type": "stream",
     "text": [
      "WARNING:tensorflow:`period` argument is deprecated. Please use `save_freq` to specify the frequency in number of samples seen.\n"
     ]
    }
   ],
   "source": [
    "es_cb = tfk.callbacks.EarlyStopping(\n",
    "    monitor='val_loss', patience=patience, mode='auto'\n",
    ")\n",
    "tb_cb = tfk.callbacks.TensorBoard(log_dir=str(out))\n",
    "cl_cb = tfk.callbacks.CSVLogger(\n",
    "    str(out.joinpath('train.log.csv')), separator=',', append=False\n",
    ")\n",
    "cp_cb = tfk.callbacks.ModelCheckpoint(\n",
    "    str(out.joinpath('model.weights.h5')), monitor='val_acc', verbose=0,\n",
    "    save_best_only=True, save_weights_only=False, mode='auto', period=1\n",
    ")"
   ]
  },
  {
   "cell_type": "markdown",
   "metadata": {},
   "source": [
    "### Train model"
   ]
  },
  {
   "cell_type": "code",
   "execution_count": 12,
   "metadata": {},
   "outputs": [
    {
     "name": "stdout",
     "output_type": "stream",
     "text": [
      "Train on 1149 samples, validate on 288 samples\n",
      "Epoch 1/50\n",
      "1149/1149 [==============================] - 1s 1ms/sample - loss: 9.0190 - acc: 0.0844 - val_loss: 4.7147 - val_acc: 0.2049\n",
      "Epoch 2/50\n",
      "1149/1149 [==============================] - 0s 161us/sample - loss: 2.9004 - acc: 0.2889 - val_loss: 2.1549 - val_acc: 0.3889\n",
      "Epoch 3/50\n",
      "1149/1149 [==============================] - 0s 135us/sample - loss: 1.4666 - acc: 0.5440 - val_loss: 1.3931 - val_acc: 0.5799\n",
      "Epoch 4/50\n",
      "1149/1149 [==============================] - 0s 147us/sample - loss: 0.9375 - acc: 0.6614 - val_loss: 1.0115 - val_acc: 0.6562\n",
      "Epoch 5/50\n",
      "1149/1149 [==============================] - 0s 146us/sample - loss: 0.6700 - acc: 0.7433 - val_loss: 0.8146 - val_acc: 0.7118\n",
      "Epoch 6/50\n",
      "1149/1149 [==============================] - 0s 108us/sample - loss: 0.5119 - acc: 0.8007 - val_loss: 0.6764 - val_acc: 0.7431\n",
      "Epoch 7/50\n",
      "1149/1149 [==============================] - 0s 142us/sample - loss: 0.4010 - acc: 0.8312 - val_loss: 0.5531 - val_acc: 0.8021\n",
      "Epoch 8/50\n",
      "1149/1149 [==============================] - 0s 133us/sample - loss: 0.3239 - acc: 0.8555 - val_loss: 0.4888 - val_acc: 0.8160\n",
      "Epoch 9/50\n",
      "1149/1149 [==============================] - 0s 139us/sample - loss: 0.2694 - acc: 0.8703 - val_loss: 0.4215 - val_acc: 0.8333\n",
      "Epoch 10/50\n",
      "1149/1149 [==============================] - 0s 142us/sample - loss: 0.2295 - acc: 0.8877 - val_loss: 0.3875 - val_acc: 0.8646\n",
      "Epoch 11/50\n",
      "1149/1149 [==============================] - 0s 141us/sample - loss: 0.2040 - acc: 0.9034 - val_loss: 0.3438 - val_acc: 0.8750\n",
      "Epoch 12/50\n",
      "1149/1149 [==============================] - 0s 137us/sample - loss: 0.1745 - acc: 0.9156 - val_loss: 0.3181 - val_acc: 0.8785\n",
      "Epoch 13/50\n",
      "1149/1149 [==============================] - 0s 140us/sample - loss: 0.1582 - acc: 0.9243 - val_loss: 0.2934 - val_acc: 0.8924\n",
      "Epoch 14/50\n",
      "1149/1149 [==============================] - 0s 138us/sample - loss: 0.1377 - acc: 0.9278 - val_loss: 0.2922 - val_acc: 0.8958\n",
      "Epoch 15/50\n",
      "1149/1149 [==============================] - 0s 161us/sample - loss: 0.1256 - acc: 0.9330 - val_loss: 0.2546 - val_acc: 0.8993\n",
      "Epoch 16/50\n",
      "1149/1149 [==============================] - 0s 182us/sample - loss: 0.1146 - acc: 0.9382 - val_loss: 0.2495 - val_acc: 0.9028\n",
      "Epoch 17/50\n",
      "1149/1149 [==============================] - 0s 196us/sample - loss: 0.1006 - acc: 0.9487 - val_loss: 0.2336 - val_acc: 0.9132\n",
      "Epoch 18/50\n",
      "1149/1149 [==============================] - 0s 134us/sample - loss: 0.0904 - acc: 0.9495 - val_loss: 0.2246 - val_acc: 0.9097\n",
      "Epoch 19/50\n",
      "1149/1149 [==============================] - 0s 172us/sample - loss: 0.0841 - acc: 0.9469 - val_loss: 0.2153 - val_acc: 0.9201\n",
      "Epoch 20/50\n",
      "1149/1149 [==============================] - 0s 139us/sample - loss: 0.0748 - acc: 0.9574 - val_loss: 0.2014 - val_acc: 0.9236\n",
      "Epoch 21/50\n",
      "1149/1149 [==============================] - 0s 181us/sample - loss: 0.0721 - acc: 0.9574 - val_loss: 0.1991 - val_acc: 0.9236\n",
      "Epoch 22/50\n",
      "1149/1149 [==============================] - 0s 139us/sample - loss: 0.0680 - acc: 0.9634 - val_loss: 0.1958 - val_acc: 0.9271\n",
      "Epoch 23/50\n",
      "1149/1149 [==============================] - 0s 133us/sample - loss: 0.0606 - acc: 0.9695 - val_loss: 0.1829 - val_acc: 0.9306\n",
      "Epoch 24/50\n",
      "1149/1149 [==============================] - 0s 124us/sample - loss: 0.0560 - acc: 0.9661 - val_loss: 0.1791 - val_acc: 0.9306\n",
      "Epoch 25/50\n",
      "1149/1149 [==============================] - 0s 142us/sample - loss: 0.0498 - acc: 0.9730 - val_loss: 0.1779 - val_acc: 0.9340\n",
      "Epoch 26/50\n",
      "1149/1149 [==============================] - 0s 130us/sample - loss: 0.0468 - acc: 0.9756 - val_loss: 0.1693 - val_acc: 0.9306\n",
      "Epoch 27/50\n",
      "1149/1149 [==============================] - 0s 119us/sample - loss: 0.0429 - acc: 0.9774 - val_loss: 0.1683 - val_acc: 0.9340\n",
      "Epoch 28/50\n",
      "1149/1149 [==============================] - 0s 132us/sample - loss: 0.0405 - acc: 0.9800 - val_loss: 0.1637 - val_acc: 0.9340\n",
      "Epoch 29/50\n",
      "1149/1149 [==============================] - 0s 247us/sample - loss: 0.0380 - acc: 0.9826 - val_loss: 0.1609 - val_acc: 0.9340\n",
      "Epoch 30/50\n",
      "1149/1149 [==============================] - 0s 310us/sample - loss: 0.0378 - acc: 0.9826 - val_loss: 0.1638 - val_acc: 0.9410\n",
      "Epoch 31/50\n",
      "1149/1149 [==============================] - 0s 272us/sample - loss: 0.0353 - acc: 0.9843 - val_loss: 0.1525 - val_acc: 0.9410\n",
      "Epoch 32/50\n",
      "1149/1149 [==============================] - 0s 244us/sample - loss: 0.0314 - acc: 0.9896 - val_loss: 0.1546 - val_acc: 0.9444\n",
      "Epoch 33/50\n",
      "1149/1149 [==============================] - 0s 127us/sample - loss: 0.0316 - acc: 0.9861 - val_loss: 0.1505 - val_acc: 0.9444\n",
      "Epoch 34/50\n",
      "1149/1149 [==============================] - 0s 133us/sample - loss: 0.0284 - acc: 0.9896 - val_loss: 0.1479 - val_acc: 0.9444\n",
      "Epoch 35/50\n",
      "1149/1149 [==============================] - 0s 120us/sample - loss: 0.0267 - acc: 0.9922 - val_loss: 0.1477 - val_acc: 0.9444\n",
      "Epoch 36/50\n",
      "1149/1149 [==============================] - 0s 130us/sample - loss: 0.0257 - acc: 0.9913 - val_loss: 0.1446 - val_acc: 0.9444\n",
      "Epoch 37/50\n",
      "1149/1149 [==============================] - 0s 127us/sample - loss: 0.0245 - acc: 0.9922 - val_loss: 0.1403 - val_acc: 0.9410\n",
      "Epoch 38/50\n",
      "1149/1149 [==============================] - 0s 220us/sample - loss: 0.0233 - acc: 0.9939 - val_loss: 0.1414 - val_acc: 0.9479\n",
      "Epoch 39/50\n",
      "1149/1149 [==============================] - 0s 126us/sample - loss: 0.0227 - acc: 0.9939 - val_loss: 0.1387 - val_acc: 0.9479\n",
      "Epoch 40/50\n",
      "1149/1149 [==============================] - 0s 119us/sample - loss: 0.0212 - acc: 0.9956 - val_loss: 0.1382 - val_acc: 0.9479\n",
      "Epoch 41/50\n",
      "1149/1149 [==============================] - 0s 115us/sample - loss: 0.0200 - acc: 0.9956 - val_loss: 0.1364 - val_acc: 0.9479\n",
      "Epoch 42/50\n",
      "1149/1149 [==============================] - 0s 117us/sample - loss: 0.0193 - acc: 0.9965 - val_loss: 0.1350 - val_acc: 0.9479\n",
      "Epoch 43/50\n",
      "1149/1149 [==============================] - 0s 177us/sample - loss: 0.0185 - acc: 0.9956 - val_loss: 0.1334 - val_acc: 0.9479\n",
      "Epoch 44/50\n",
      "1149/1149 [==============================] - 0s 143us/sample - loss: 0.0185 - acc: 0.9956 - val_loss: 0.1365 - val_acc: 0.9514\n",
      "Epoch 45/50\n",
      "1149/1149 [==============================] - 0s 122us/sample - loss: 0.0176 - acc: 0.9965 - val_loss: 0.1318 - val_acc: 0.9479\n",
      "Epoch 46/50\n",
      "1149/1149 [==============================] - 0s 170us/sample - loss: 0.0166 - acc: 0.9965 - val_loss: 0.1301 - val_acc: 0.9549\n",
      "Epoch 47/50\n",
      "1149/1149 [==============================] - 0s 125us/sample - loss: 0.0154 - acc: 0.9974 - val_loss: 0.1310 - val_acc: 0.9549\n",
      "Epoch 48/50\n",
      "1149/1149 [==============================] - 0s 116us/sample - loss: 0.0155 - acc: 0.9974 - val_loss: 0.1308 - val_acc: 0.9514\n",
      "Epoch 49/50\n",
      "1149/1149 [==============================] - 0s 118us/sample - loss: 0.0143 - acc: 0.9974 - val_loss: 0.1269 - val_acc: 0.9514\n",
      "Epoch 50/50\n",
      "1149/1149 [==============================] - 0s 163us/sample - loss: 0.0150 - acc: 0.9983 - val_loss: 0.1287 - val_acc: 0.9514\n"
     ]
    }
   ],
   "source": [
    "history = dlsvm.fit(\n",
    "    *(X_train_, y_train_),\n",
    "    validation_data=(X_train_val, y_train_val),\n",
    "    batch_size=batch_size,\n",
    "    epochs=epochs,\n",
    "    callbacks=[tb_cb, cl_cb, cp_cb]\n",
    ")"
   ]
  },
  {
   "cell_type": "code",
   "execution_count": 13,
   "metadata": {},
   "outputs": [],
   "source": [
    "df_result = pd.DataFrame(history.history)"
   ]
  },
  {
   "cell_type": "code",
   "execution_count": 14,
   "metadata": {},
   "outputs": [
    {
     "data": {
      "image/png": "[encoded data removed]",
      "text/plain": [
       "<Figure size 432x288 with 1 Axes>"
      ]
     },
     "metadata": {},
     "output_type": "display_data"
    }
   ],
   "source": [
    "sns.lineplot(data=df_result[['acc', 'val_acc']])\n",
    "plt.xlabel('epoch')\n",
    "plt.ylabel('acc')\n",
    "plt.savefig(out.joinpath('acc_logs.pdf'))"
   ]
  },
  {
   "cell_type": "code",
   "execution_count": 15,
   "metadata": {},
   "outputs": [
    {
     "data": {
      "image/png": "[encoded data removed]",
      "text/plain": [
       "<Figure size 432x288 with 1 Axes>"
      ]
     },
     "metadata": {},
     "output_type": "display_data"
    }
   ],
   "source": [
    "sns.lineplot(data=df_result[['loss', 'val_loss']])\n",
    "plt.xlabel('epoch')\n",
    "plt.ylabel('loss')\n",
    "plt.savefig(out.joinpath('loss_logs.pdf'))"
   ]
  },
  {
   "cell_type": "code",
   "execution_count": 16,
   "metadata": {},
   "outputs": [],
   "source": [
    "dlsvm.load_weights(str(out.joinpath('model.weights.h5')))"
   ]
  },
  {
   "cell_type": "code",
   "execution_count": 17,
   "metadata": {},
   "outputs": [
    {
     "name": "stdout",
     "output_type": "stream",
     "text": [
      "Model: \"sequential\"\n",
      "_________________________________________________________________\n",
      "Layer (type)                 Output Shape              Param #   \n",
      "=================================================================\n",
      "dense (Dense)                (None, 128)               8320      \n",
      "_________________________________________________________________\n",
      "dense_1 (Dense)              (None, 10)                1290      \n",
      "=================================================================\n",
      "Total params: 9,610\n",
      "Trainable params: 9,610\n",
      "Non-trainable params: 0\n",
      "_________________________________________________________________\n"
     ]
    }
   ],
   "source": [
    "dlsvm.model.summary()"
   ]
  },
  {
   "cell_type": "markdown",
   "metadata": {},
   "source": [
    "### Performance of model"
   ]
  },
  {
   "cell_type": "code",
   "execution_count": 18,
   "metadata": {},
   "outputs": [
    {
     "name": "stdout",
     "output_type": "stream",
     "text": [
      "Train perfomance of model\n",
      "             0.0         1.0         2.0         3.0         4.0         5.0  \\\n",
      "f1-score     1.0    0.984026    0.993007    0.986667    0.992537    0.988930   \n",
      "precision    1.0    0.968553    1.000000    0.980132    1.000000    0.985294   \n",
      "recall       1.0    1.000000    0.986111    0.993289    0.985185    0.992593   \n",
      "support    145.0  154.000000  144.000000  149.000000  135.000000  135.000000   \n",
      "\n",
      "                  6.0        7.0         8.0         9.0    micro avg  \\\n",
      "f1-score     0.996564    0.97931    0.989547    0.978417     0.988866   \n",
      "precision    1.000000    0.97931    0.993007    0.985507     0.988866   \n",
      "recall       0.993151    0.97931    0.986111    0.971429     0.988866   \n",
      "support    146.000000  145.00000  144.000000  140.000000  1437.000000   \n",
      "\n",
      "             macro avg  weighted avg  \n",
      "f1-score      0.988900      0.988877  \n",
      "precision     0.989180      0.988988  \n",
      "recall        0.988718      0.988866  \n",
      "support    1437.000000   1437.000000  \n"
     ]
    }
   ],
   "source": [
    "df_train = pd.DataFrame(\n",
    "    classification_report(y_pred=np.argmax(dlsvm.predict(X_train), axis=-1), y_true=y_train, output_dict=True)\n",
    ")\n",
    "print('Train perfomance of model')\n",
    "print(df_train)\n",
    "df_train.to_csv(out.joinpath('train-performance.csv'))"
   ]
  },
  {
   "cell_type": "code",
   "execution_count": 19,
   "metadata": {},
   "outputs": [
    {
     "name": "stdout",
     "output_type": "stream",
     "text": [
      "Test perfomance of model\n",
      "                 0.0        1.0        2.0        3.0   4.0        5.0  \\\n",
      "f1-score    0.953846   0.947368   0.970588   0.971429   1.0   0.967742   \n",
      "precision   0.968750   0.931034   0.942857   0.944444   1.0   0.978261   \n",
      "recall      0.939394   0.964286   1.000000   1.000000   1.0   0.957447   \n",
      "support    33.000000  28.000000  33.000000  34.000000  46.0  47.000000   \n",
      "\n",
      "                 6.0        7.0        8.0        9.0   micro avg   macro avg  \\\n",
      "f1-score    0.971429   0.970588   0.931034   0.962025    0.966667    0.964605   \n",
      "precision   0.971429   0.970588   0.964286   0.974359    0.966667    0.964601   \n",
      "recall      0.971429   0.970588   0.900000   0.950000    0.966667    0.965314   \n",
      "support    35.000000  34.000000  30.000000  40.000000  360.000000  360.000000   \n",
      "\n",
      "           weighted avg  \n",
      "f1-score       0.966548  \n",
      "precision      0.967068  \n",
      "recall         0.966667  \n",
      "support      360.000000  \n"
     ]
    }
   ],
   "source": [
    "df_test = pd.DataFrame(\n",
    "    classification_report(y_pred=np.argmax(dlsvm.predict(X_test), axis=-1), y_true=y_test, output_dict=True)\n",
    ")\n",
    "print('Test perfomance of model')\n",
    "print(df_test)\n",
    "df_test.to_csv(out.joinpath('test-performance.csv'))"
   ]
  },
  {
   "cell_type": "code",
   "execution_count": 20,
   "metadata": {},
   "outputs": [
    {
     "data": {
      "text/plain": [
       "array([6, 0, 0, ..., 2, 7, 1])"
      ]
     },
     "execution_count": 20,
     "metadata": {},
     "output_type": "execute_result"
    }
   ],
   "source": [
    "np.argmax(dlsvm.predict(X_train), axis=-1)"
   ]
  },
  {
   "cell_type": "code",
   "execution_count": 21,
   "metadata": {},
   "outputs": [
    {
     "data": {
      "text/plain": [
       "array([6, 9, 3, 7, 2, 1, 5, 2, 5, 2, 1, 9, 4, 0, 4, 2, 3, 7, 8, 8, 4, 3,\n",
       "       9, 7, 5, 6, 3, 5, 6, 3, 4, 9, 1, 4, 4, 6, 9, 4, 7, 6, 6, 9, 1, 3,\n",
       "       6, 1, 3, 0, 6, 5, 5, 1, 9, 5, 6, 0, 9, 0, 0, 1, 2, 4, 5, 2, 4, 5,\n",
       "       7, 0, 7, 5, 9, 3, 5, 4, 7, 0, 4, 5, 5, 9, 9, 0, 2, 3, 8, 0, 6, 4,\n",
       "       4, 9, 1, 2, 8, 3, 5, 2, 9, 0, 4, 4, 4, 3, 5, 3, 1, 3, 5, 9, 4, 2,\n",
       "       7, 7, 4, 4, 1, 9, 2, 7, 8, 7, 2, 6, 9, 4, 2, 7, 2, 7, 5, 8, 7, 5,\n",
       "       7, 9, 0, 6, 6, 4, 2, 8, 0, 9, 4, 6, 9, 9, 6, 9, 0, 3, 5, 6, 6, 0,\n",
       "       6, 4, 3, 9, 3, 9, 7, 2, 3, 0, 4, 5, 3, 6, 5, 7, 9, 8, 4, 2, 1, 3,\n",
       "       7, 7, 2, 2, 3, 9, 8, 0, 3, 2, 2, 5, 6, 9, 9, 4, 1, 5, 4, 2, 3, 6,\n",
       "       4, 8, 5, 9, 5, 7, 8, 9, 4, 8, 1, 5, 4, 4, 9, 6, 1, 8, 6, 0, 4, 5,\n",
       "       2, 7, 4, 6, 4, 5, 6, 0, 3, 2, 3, 6, 7, 1, 5, 1, 4, 7, 6, 5, 1, 5,\n",
       "       5, 1, 0, 2, 8, 8, 9, 9, 7, 6, 2, 2, 2, 3, 4, 8, 1, 3, 6, 0, 9, 7,\n",
       "       7, 0, 1, 0, 4, 5, 8, 5, 3, 6, 0, 4, 1, 0, 0, 3, 6, 5, 9, 7, 3, 5,\n",
       "       5, 9, 9, 8, 5, 3, 3, 2, 0, 5, 8, 3, 4, 0, 2, 4, 6, 4, 3, 4, 5, 0,\n",
       "       5, 2, 1, 3, 1, 4, 1, 1, 7, 0, 1, 5, 2, 1, 2, 8, 7, 0, 6, 4, 8, 8,\n",
       "       5, 1, 8, 4, 5, 8, 7, 9, 8, 6, 0, 6, 2, 0, 7, 9, 8, 9, 5, 2, 7, 7,\n",
       "       1, 8, 7, 4, 3, 8, 3, 5])"
      ]
     },
     "execution_count": 21,
     "metadata": {},
     "output_type": "execute_result"
    }
   ],
   "source": [
    "np.argmax(dlsvm.predict(X_test), axis=-1)"
   ]
  }
 ],
 "metadata": {
  "jupytext": {
   "text_representation": {
    "extension": ".py",
    "format_name": "light",
    "format_version": "1.5",
    "jupytext_version": "1.4.2"
   }
  },
  "kernelspec": {
   "display_name": "Python 3",
   "language": "python",
   "name": "python3"
  },
  "language_info": {
   "codemirror_mode": {
    "name": "ipython",
    "version": 3
   },
   "file_extension": ".py",
   "mimetype": "text/x-python",
   "name": "python",
   "nbconvert_exporter": "python",
   "pygments_lexer": "ipython3",
   "version": "3.6.8"
  }
 },
 "nbformat": 4,
 "nbformat_minor": 4
}
