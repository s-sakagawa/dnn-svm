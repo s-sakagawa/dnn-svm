{
 "cells": [
  {
   "cell_type": "code",
   "execution_count": 1,
   "metadata": {},
   "outputs": [],
   "source": [
    "from pathlib import Path\n",
    "from typing import Union, Callable\n",
    "\n",
    "import numpy as np\n",
    "import matplotlib.pyplot as plt\n",
    "import pandas as pd\n",
    "import seaborn as sns\n",
    "import tensorflow as tf\n",
    "import tensorflow.keras as tfk\n",
    "from sklearn import datasets\n",
    "from sklearn.externals import joblib\n",
    "from sklearn.metrics import classification_report\n",
    "from sklearn.model_selection import train_test_split\n",
    "\n",
    "from dlsvm.models import DnnSvm\n",
    "from dlsvm.tools import build_model, label_2_pn"
   ]
  },
  {
   "cell_type": "code",
   "execution_count": 2,
   "metadata": {},
   "outputs": [],
   "source": [
    "out = Path('./0518_iris_svm')\n",
    "if not out.exists():\n",
    "    out.mkdir(parents=True)"
   ]
  },
  {
   "cell_type": "code",
   "execution_count": 3,
   "metadata": {},
   "outputs": [],
   "source": [
    "sns.set()"
   ]
  },
  {
   "cell_type": "markdown",
   "metadata": {},
   "source": [
    "### Load dataset"
   ]
  },
  {
   "cell_type": "code",
   "execution_count": 4,
   "metadata": {},
   "outputs": [],
   "source": [
    "iris = datasets.load_iris()\n",
    "X = iris.data.astype(np.float32)\n",
    "y = iris.target.astype(np.float32)"
   ]
  },
  {
   "cell_type": "code",
   "execution_count": 5,
   "metadata": {},
   "outputs": [],
   "source": [
    "X_train, X_test, y_train, y_test = train_test_split(X, y, test_size=0.2, random_state=42)\n",
    "\n",
    "X_train_, X_train_val, y_train_, y_train_val = train_test_split(X_train, y_train, test_size=0.2, random_state=42)"
   ]
  },
  {
   "cell_type": "code",
   "execution_count": 6,
   "metadata": {},
   "outputs": [],
   "source": [
    "y_train_ = label_2_pn(y_train_)\n",
    "y_train_val = label_2_pn(y_train_val)"
   ]
  },
  {
   "cell_type": "markdown",
   "metadata": {},
   "source": [
    "### Build model"
   ]
  },
  {
   "cell_type": "code",
   "execution_count": 7,
   "metadata": {},
   "outputs": [],
   "source": [
    "dlsvm = build_model(\n",
    "    n_class=len(iris.target_names),\n",
    "    n_in=len(iris.data[0]),\n",
    "    n_h=32,\n",
    "    activation='relu',\n",
    "    kernel_initializer='he_uniform',\n",
    "    penalty=0.5,\n",
    "    softmax=False\n",
    ")"
   ]
  },
  {
   "cell_type": "code",
   "execution_count": 8,
   "metadata": {},
   "outputs": [],
   "source": [
    "batch_size = 12\n",
    "epochs = 100\n",
    "learning_rate = 1e-3\n",
    "patience = 5\n",
    "loss = dlsvm.loss_l2_svm"
   ]
  },
  {
   "cell_type": "code",
   "execution_count": 9,
   "metadata": {},
   "outputs": [],
   "source": [
    "optimizer = tf.keras.optimizers.Adam(learning_rate=learning_rate)\n",
    "dlsvm.compile(optimizer=optimizer, loss=loss, metrics=['acc'])"
   ]
  },
  {
   "cell_type": "code",
   "execution_count": 10,
   "metadata": {},
   "outputs": [
    {
     "name": "stdout",
     "output_type": "stream",
     "text": [
      "WARNING:tensorflow:`period` argument is deprecated. Please use `save_freq` to specify the frequency in number of samples seen.\n"
     ]
    }
   ],
   "source": [
    "es_cb = tfk.callbacks.EarlyStopping(\n",
    "    monitor='val_loss', patience=patience, mode='auto'\n",
    ")\n",
    "tb_cb = tfk.callbacks.TensorBoard(log_dir=str(out))\n",
    "cl_cb = tfk.callbacks.CSVLogger(\n",
    "    str(out.joinpath('train.log.csv')), separator=',', append=False\n",
    ")\n",
    "cp_cb = tfk.callbacks.ModelCheckpoint(\n",
    "    str(out.joinpath('model.weights.h5')), monitor='val_acc', verbose=0,\n",
    "    save_best_only=True, save_weights_only=False, mode='auto', period=1\n",
    ")"
   ]
  },
  {
   "cell_type": "markdown",
   "metadata": {},
   "source": [
    "### Train model"
   ]
  },
  {
   "cell_type": "code",
   "execution_count": 11,
   "metadata": {},
   "outputs": [
    {
     "name": "stdout",
     "output_type": "stream",
     "text": [
      "Train on 96 samples, validate on 24 samples\n",
      "Epoch 1/100\n",
      "96/96 [==============================] - 1s 13ms/sample - loss: 4.8304 - acc: 0.3333 - val_loss: 4.0403 - val_acc: 0.3333\n",
      "Epoch 2/100\n",
      "96/96 [==============================] - 0s 779us/sample - loss: 3.4880 - acc: 0.3333 - val_loss: 2.9875 - val_acc: 0.3333\n",
      "Epoch 3/100\n",
      "96/96 [==============================] - 0s 693us/sample - loss: 2.4942 - acc: 0.3333 - val_loss: 2.1453 - val_acc: 0.3333\n",
      "Epoch 4/100\n",
      "96/96 [==============================] - 0s 537us/sample - loss: 1.7236 - acc: 0.3333 - val_loss: 1.5191 - val_acc: 0.3333\n",
      "Epoch 5/100\n",
      "96/96 [==============================] - 0s 667us/sample - loss: 1.1639 - acc: 0.3333 - val_loss: 1.0792 - val_acc: 0.3333\n",
      "Epoch 6/100\n",
      "96/96 [==============================] - 0s 874us/sample - loss: 0.8214 - acc: 0.4271 - val_loss: 0.7688 - val_acc: 0.5417\n",
      "Epoch 7/100\n",
      "96/96 [==============================] - 0s 569us/sample - loss: 0.5725 - acc: 0.6771 - val_loss: 0.5639 - val_acc: 0.5417\n",
      "Epoch 8/100\n",
      "96/96 [==============================] - 0s 527us/sample - loss: 0.4298 - acc: 0.6875 - val_loss: 0.4215 - val_acc: 0.5417\n",
      "Epoch 9/100\n",
      "96/96 [==============================] - 0s 818us/sample - loss: 0.3373 - acc: 0.7083 - val_loss: 0.3544 - val_acc: 0.6250\n",
      "Epoch 10/100\n",
      "96/96 [==============================] - 0s 849us/sample - loss: 0.2998 - acc: 0.8333 - val_loss: 0.3247 - val_acc: 0.6667\n",
      "Epoch 11/100\n",
      "96/96 [==============================] - 0s 576us/sample - loss: 0.2793 - acc: 0.8750 - val_loss: 0.3083 - val_acc: 0.6667\n",
      "Epoch 12/100\n",
      "96/96 [==============================] - 0s 857us/sample - loss: 0.2622 - acc: 0.8854 - val_loss: 0.2950 - val_acc: 0.7083\n",
      "Epoch 13/100\n",
      "96/96 [==============================] - 0s 876us/sample - loss: 0.2453 - acc: 0.9062 - val_loss: 0.2844 - val_acc: 0.7500\n",
      "Epoch 14/100\n",
      "96/96 [==============================] - 0s 567us/sample - loss: 0.2330 - acc: 0.9062 - val_loss: 0.2800 - val_acc: 0.7500\n",
      "Epoch 15/100\n",
      "96/96 [==============================] - 0s 574us/sample - loss: 0.2219 - acc: 0.8854 - val_loss: 0.2712 - val_acc: 0.7500\n",
      "Epoch 16/100\n",
      "96/96 [==============================] - 0s 545us/sample - loss: 0.2139 - acc: 0.9062 - val_loss: 0.2612 - val_acc: 0.7500\n",
      "Epoch 17/100\n",
      "96/96 [==============================] - 0s 579us/sample - loss: 0.2061 - acc: 0.8958 - val_loss: 0.2597 - val_acc: 0.7500\n",
      "Epoch 18/100\n",
      "96/96 [==============================] - 0s 634us/sample - loss: 0.2003 - acc: 0.9062 - val_loss: 0.2511 - val_acc: 0.7500\n",
      "Epoch 19/100\n",
      "96/96 [==============================] - 0s 666us/sample - loss: 0.1938 - acc: 0.9062 - val_loss: 0.2460 - val_acc: 0.7500\n",
      "Epoch 20/100\n",
      "96/96 [==============================] - 0s 714us/sample - loss: 0.1895 - acc: 0.9062 - val_loss: 0.2390 - val_acc: 0.7500\n",
      "Epoch 21/100\n",
      "96/96 [==============================] - 0s 527us/sample - loss: 0.1845 - acc: 0.9167 - val_loss: 0.2365 - val_acc: 0.7500\n",
      "Epoch 22/100\n",
      "96/96 [==============================] - 0s 475us/sample - loss: 0.1800 - acc: 0.9167 - val_loss: 0.2356 - val_acc: 0.7500\n",
      "Epoch 23/100\n",
      "96/96 [==============================] - 0s 548us/sample - loss: 0.1764 - acc: 0.9062 - val_loss: 0.2348 - val_acc: 0.7500\n",
      "Epoch 24/100\n",
      "96/96 [==============================] - 0s 581us/sample - loss: 0.1733 - acc: 0.9062 - val_loss: 0.2332 - val_acc: 0.7500\n",
      "Epoch 25/100\n",
      "96/96 [==============================] - 0s 724us/sample - loss: 0.1728 - acc: 0.9271 - val_loss: 0.2198 - val_acc: 0.8333\n",
      "Epoch 26/100\n",
      "96/96 [==============================] - 0s 603us/sample - loss: 0.1672 - acc: 0.9375 - val_loss: 0.2185 - val_acc: 0.8333\n",
      "Epoch 27/100\n",
      "96/96 [==============================] - 0s 547us/sample - loss: 0.1646 - acc: 0.9167 - val_loss: 0.2236 - val_acc: 0.7500\n",
      "Epoch 28/100\n",
      "96/96 [==============================] - 0s 651us/sample - loss: 0.1618 - acc: 0.9062 - val_loss: 0.2194 - val_acc: 0.7500\n",
      "Epoch 29/100\n",
      "96/96 [==============================] - 0s 573us/sample - loss: 0.1602 - acc: 0.9062 - val_loss: 0.2224 - val_acc: 0.7500\n",
      "Epoch 30/100\n",
      "96/96 [==============================] - 0s 569us/sample - loss: 0.1573 - acc: 0.9062 - val_loss: 0.2175 - val_acc: 0.7500\n",
      "Epoch 31/100\n",
      "96/96 [==============================] - 0s 638us/sample - loss: 0.1550 - acc: 0.9271 - val_loss: 0.2081 - val_acc: 0.8333\n",
      "Epoch 32/100\n",
      "96/96 [==============================] - 0s 641us/sample - loss: 0.1533 - acc: 0.9583 - val_loss: 0.2038 - val_acc: 0.8333\n",
      "Epoch 33/100\n",
      "96/96 [==============================] - 0s 513us/sample - loss: 0.1519 - acc: 0.9375 - val_loss: 0.2107 - val_acc: 0.7917\n",
      "Epoch 34/100\n",
      "96/96 [==============================] - 0s 594us/sample - loss: 0.1490 - acc: 0.9479 - val_loss: 0.2075 - val_acc: 0.7917\n",
      "Epoch 35/100\n",
      "96/96 [==============================] - 0s 514us/sample - loss: 0.1473 - acc: 0.9479 - val_loss: 0.2027 - val_acc: 0.8333\n",
      "Epoch 36/100\n",
      "96/96 [==============================] - 0s 537us/sample - loss: 0.1460 - acc: 0.9479 - val_loss: 0.2047 - val_acc: 0.7917\n",
      "Epoch 37/100\n",
      "96/96 [==============================] - 0s 562us/sample - loss: 0.1436 - acc: 0.9583 - val_loss: 0.1984 - val_acc: 0.8333\n",
      "Epoch 38/100\n",
      "96/96 [==============================] - 0s 569us/sample - loss: 0.1418 - acc: 0.9583 - val_loss: 0.1981 - val_acc: 0.8333\n",
      "Epoch 39/100\n",
      "96/96 [==============================] - 0s 517us/sample - loss: 0.1429 - acc: 0.9583 - val_loss: 0.1909 - val_acc: 0.8333\n",
      "Epoch 40/100\n",
      "96/96 [==============================] - 0s 515us/sample - loss: 0.1396 - acc: 0.9583 - val_loss: 0.2018 - val_acc: 0.7917\n",
      "Epoch 41/100\n",
      "96/96 [==============================] - 0s 509us/sample - loss: 0.1376 - acc: 0.9583 - val_loss: 0.1943 - val_acc: 0.8333\n",
      "Epoch 42/100\n",
      "96/96 [==============================] - 0s 468us/sample - loss: 0.1351 - acc: 0.9583 - val_loss: 0.1926 - val_acc: 0.8333\n",
      "Epoch 43/100\n",
      "96/96 [==============================] - 0s 512us/sample - loss: 0.1350 - acc: 0.9688 - val_loss: 0.1870 - val_acc: 0.8333\n",
      "Epoch 44/100\n",
      "96/96 [==============================] - 0s 487us/sample - loss: 0.1318 - acc: 0.9688 - val_loss: 0.1889 - val_acc: 0.8333\n",
      "Epoch 45/100\n",
      "96/96 [==============================] - 0s 475us/sample - loss: 0.1305 - acc: 0.9583 - val_loss: 0.1929 - val_acc: 0.8333\n",
      "Epoch 46/100\n",
      "96/96 [==============================] - 0s 592us/sample - loss: 0.1294 - acc: 0.9583 - val_loss: 0.1893 - val_acc: 0.8333\n",
      "Epoch 47/100\n",
      "96/96 [==============================] - 0s 508us/sample - loss: 0.1294 - acc: 0.9583 - val_loss: 0.1815 - val_acc: 0.8333\n",
      "Epoch 48/100\n",
      "96/96 [==============================] - 0s 476us/sample - loss: 0.1266 - acc: 0.9688 - val_loss: 0.1844 - val_acc: 0.8333\n",
      "Epoch 49/100\n",
      "96/96 [==============================] - 0s 494us/sample - loss: 0.1251 - acc: 0.9583 - val_loss: 0.1847 - val_acc: 0.8333\n",
      "Epoch 50/100\n",
      "96/96 [==============================] - 0s 529us/sample - loss: 0.1239 - acc: 0.9688 - val_loss: 0.1798 - val_acc: 0.8333\n",
      "Epoch 51/100\n",
      "96/96 [==============================] - 0s 480us/sample - loss: 0.1227 - acc: 0.9688 - val_loss: 0.1788 - val_acc: 0.8333\n",
      "Epoch 52/100\n",
      "96/96 [==============================] - 0s 541us/sample - loss: 0.1215 - acc: 0.9688 - val_loss: 0.1800 - val_acc: 0.8333\n",
      "Epoch 53/100\n",
      "96/96 [==============================] - 0s 498us/sample - loss: 0.1199 - acc: 0.9688 - val_loss: 0.1783 - val_acc: 0.8333\n",
      "Epoch 54/100\n",
      "96/96 [==============================] - 0s 477us/sample - loss: 0.1190 - acc: 0.9688 - val_loss: 0.1788 - val_acc: 0.8333\n",
      "Epoch 55/100\n",
      "96/96 [==============================] - 0s 712us/sample - loss: 0.1182 - acc: 0.9688 - val_loss: 0.1717 - val_acc: 0.8750\n",
      "Epoch 56/100\n",
      "96/96 [==============================] - 0s 498us/sample - loss: 0.1171 - acc: 0.9688 - val_loss: 0.1763 - val_acc: 0.8333\n",
      "Epoch 57/100\n",
      "96/96 [==============================] - 0s 515us/sample - loss: 0.1158 - acc: 0.9688 - val_loss: 0.1708 - val_acc: 0.8750\n",
      "Epoch 58/100\n",
      "96/96 [==============================] - 0s 490us/sample - loss: 0.1145 - acc: 0.9688 - val_loss: 0.1716 - val_acc: 0.8333\n",
      "Epoch 59/100\n",
      "96/96 [==============================] - 0s 500us/sample - loss: 0.1144 - acc: 0.9688 - val_loss: 0.1709 - val_acc: 0.8333\n",
      "Epoch 60/100\n",
      "96/96 [==============================] - 0s 492us/sample - loss: 0.1132 - acc: 0.9688 - val_loss: 0.1661 - val_acc: 0.8750\n",
      "Epoch 61/100\n",
      "96/96 [==============================] - 0s 526us/sample - loss: 0.1111 - acc: 0.9688 - val_loss: 0.1721 - val_acc: 0.8333\n",
      "Epoch 62/100\n",
      "96/96 [==============================] - 0s 487us/sample - loss: 0.1109 - acc: 0.9688 - val_loss: 0.1681 - val_acc: 0.8750\n",
      "Epoch 63/100\n",
      "96/96 [==============================] - 0s 478us/sample - loss: 0.1092 - acc: 0.9688 - val_loss: 0.1672 - val_acc: 0.8750\n",
      "Epoch 64/100\n",
      "96/96 [==============================] - 0s 585us/sample - loss: 0.1081 - acc: 0.9688 - val_loss: 0.1669 - val_acc: 0.8750\n",
      "Epoch 65/100\n",
      "96/96 [==============================] - 0s 498us/sample - loss: 0.1092 - acc: 0.9688 - val_loss: 0.1600 - val_acc: 0.8750\n",
      "Epoch 66/100\n",
      "96/96 [==============================] - 0s 488us/sample - loss: 0.1065 - acc: 0.9688 - val_loss: 0.1693 - val_acc: 0.8333\n",
      "Epoch 67/100\n",
      "96/96 [==============================] - 0s 490us/sample - loss: 0.1057 - acc: 0.9688 - val_loss: 0.1674 - val_acc: 0.8333\n",
      "Epoch 68/100\n",
      "96/96 [==============================] - 0s 467us/sample - loss: 0.1048 - acc: 0.9688 - val_loss: 0.1614 - val_acc: 0.8750\n",
      "Epoch 69/100\n",
      "96/96 [==============================] - 0s 587us/sample - loss: 0.1042 - acc: 0.9792 - val_loss: 0.1641 - val_acc: 0.8750\n",
      "Epoch 70/100\n",
      "96/96 [==============================] - 0s 1ms/sample - loss: 0.1032 - acc: 0.9688 - val_loss: 0.1641 - val_acc: 0.8750\n",
      "Epoch 71/100\n",
      "96/96 [==============================] - 0s 806us/sample - loss: 0.1030 - acc: 0.9688 - val_loss: 0.1541 - val_acc: 0.9167\n",
      "Epoch 72/100\n",
      "96/96 [==============================] - 0s 522us/sample - loss: 0.1016 - acc: 0.9792 - val_loss: 0.1578 - val_acc: 0.8750\n",
      "Epoch 73/100\n",
      "96/96 [==============================] - 0s 519us/sample - loss: 0.1013 - acc: 0.9688 - val_loss: 0.1622 - val_acc: 0.8750\n",
      "Epoch 74/100\n",
      "96/96 [==============================] - 0s 523us/sample - loss: 0.1005 - acc: 0.9792 - val_loss: 0.1548 - val_acc: 0.9167\n",
      "Epoch 75/100\n",
      "96/96 [==============================] - 0s 540us/sample - loss: 0.0997 - acc: 0.9688 - val_loss: 0.1563 - val_acc: 0.8750\n",
      "Epoch 76/100\n",
      "96/96 [==============================] - 0s 562us/sample - loss: 0.0988 - acc: 0.9688 - val_loss: 0.1643 - val_acc: 0.8333\n",
      "Epoch 77/100\n",
      "96/96 [==============================] - 0s 528us/sample - loss: 0.0981 - acc: 0.9792 - val_loss: 0.1558 - val_acc: 0.8750\n",
      "Epoch 78/100\n",
      "96/96 [==============================] - 0s 545us/sample - loss: 0.0970 - acc: 0.9792 - val_loss: 0.1567 - val_acc: 0.8750\n",
      "Epoch 79/100\n",
      "96/96 [==============================] - 0s 581us/sample - loss: 0.0963 - acc: 0.9792 - val_loss: 0.1558 - val_acc: 0.8750\n",
      "Epoch 80/100\n",
      "96/96 [==============================] - 0s 533us/sample - loss: 0.0957 - acc: 0.9792 - val_loss: 0.1484 - val_acc: 0.9167\n",
      "Epoch 81/100\n",
      "96/96 [==============================] - 0s 494us/sample - loss: 0.0953 - acc: 0.9688 - val_loss: 0.1493 - val_acc: 0.9167\n",
      "Epoch 82/100\n",
      "96/96 [==============================] - 0s 506us/sample - loss: 0.0942 - acc: 0.9792 - val_loss: 0.1543 - val_acc: 0.8750\n",
      "Epoch 83/100\n",
      "96/96 [==============================] - 0s 555us/sample - loss: 0.0940 - acc: 0.9792 - val_loss: 0.1510 - val_acc: 0.9167\n",
      "Epoch 84/100\n",
      "96/96 [==============================] - 0s 541us/sample - loss: 0.0930 - acc: 0.9792 - val_loss: 0.1519 - val_acc: 0.9167\n",
      "Epoch 85/100\n",
      "96/96 [==============================] - 0s 567us/sample - loss: 0.0930 - acc: 0.9792 - val_loss: 0.1539 - val_acc: 0.8750\n",
      "Epoch 86/100\n",
      "96/96 [==============================] - 0s 527us/sample - loss: 0.0924 - acc: 0.9792 - val_loss: 0.1563 - val_acc: 0.8750\n",
      "Epoch 87/100\n",
      "96/96 [==============================] - 0s 520us/sample - loss: 0.0915 - acc: 0.9792 - val_loss: 0.1487 - val_acc: 0.9167\n",
      "Epoch 88/100\n",
      "96/96 [==============================] - 0s 538us/sample - loss: 0.0912 - acc: 0.9792 - val_loss: 0.1498 - val_acc: 0.9167\n",
      "Epoch 89/100\n",
      "96/96 [==============================] - 0s 546us/sample - loss: 0.0905 - acc: 0.9688 - val_loss: 0.1430 - val_acc: 0.9167\n",
      "Epoch 90/100\n",
      "96/96 [==============================] - 0s 562us/sample - loss: 0.0900 - acc: 0.9688 - val_loss: 0.1484 - val_acc: 0.9167\n",
      "Epoch 91/100\n",
      "96/96 [==============================] - 0s 568us/sample - loss: 0.0889 - acc: 0.9792 - val_loss: 0.1483 - val_acc: 0.9167\n",
      "Epoch 92/100\n",
      "96/96 [==============================] - 0s 567us/sample - loss: 0.0884 - acc: 0.9792 - val_loss: 0.1467 - val_acc: 0.9167\n",
      "Epoch 93/100\n",
      "96/96 [==============================] - 0s 567us/sample - loss: 0.0882 - acc: 0.9792 - val_loss: 0.1477 - val_acc: 0.9167\n",
      "Epoch 94/100\n",
      "96/96 [==============================] - 0s 706us/sample - loss: 0.0876 - acc: 0.9688 - val_loss: 0.1425 - val_acc: 0.9167\n",
      "Epoch 95/100\n",
      "96/96 [==============================] - 0s 928us/sample - loss: 0.0874 - acc: 0.9688 - val_loss: 0.1476 - val_acc: 0.9167\n",
      "Epoch 96/100\n",
      "96/96 [==============================] - 0s 681us/sample - loss: 0.0865 - acc: 0.9792 - val_loss: 0.1470 - val_acc: 0.9167\n",
      "Epoch 97/100\n",
      "96/96 [==============================] - 0s 660us/sample - loss: 0.0859 - acc: 0.9792 - val_loss: 0.1424 - val_acc: 0.9167\n",
      "Epoch 98/100\n",
      "96/96 [==============================] - 0s 516us/sample - loss: 0.0861 - acc: 0.9688 - val_loss: 0.1386 - val_acc: 0.9167\n",
      "Epoch 99/100\n",
      "96/96 [==============================] - 0s 562us/sample - loss: 0.0849 - acc: 0.9792 - val_loss: 0.1451 - val_acc: 0.9167\n",
      "Epoch 100/100\n",
      "96/96 [==============================] - 0s 574us/sample - loss: 0.0846 - acc: 0.9792 - val_loss: 0.1466 - val_acc: 0.9167\n"
     ]
    }
   ],
   "source": [
    "history = dlsvm.fit(\n",
    "    *(X_train_, y_train_),\n",
    "    validation_data=(X_train_val, y_train_val),\n",
    "    batch_size=batch_size,\n",
    "    epochs=epochs,\n",
    "    callbacks=[tb_cb, cl_cb, cp_cb]\n",
    ")"
   ]
  },
  {
   "cell_type": "code",
   "execution_count": 12,
   "metadata": {},
   "outputs": [],
   "source": [
    "df_result = pd.DataFrame(history.history)"
   ]
  },
  {
   "cell_type": "code",
   "execution_count": 13,
   "metadata": {},
   "outputs": [
    {
     "data": {
      "image/png": "[encoded data removed]",
      "text/plain": [
       "<Figure size 432x288 with 1 Axes>"
      ]
     },
     "metadata": {},
     "output_type": "display_data"
    }
   ],
   "source": [
    "sns.lineplot(data=df_result[['acc', 'val_acc']])\n",
    "plt.xlabel('epoch')\n",
    "plt.ylabel('acc')\n",
    "plt.savefig(out.joinpath('acc_logs.pdf'))"
   ]
  },
  {
   "cell_type": "code",
   "execution_count": 14,
   "metadata": {},
   "outputs": [
    {
     "data": {
      "image/png": "[encoded data removed]",
      "text/plain": [
       "<Figure size 432x288 with 1 Axes>"
      ]
     },
     "metadata": {},
     "output_type": "display_data"
    }
   ],
   "source": [
    "sns.lineplot(data=df_result[['loss', 'val_loss']])\n",
    "plt.xlabel('epoch')\n",
    "plt.ylabel('loss')\n",
    "plt.savefig(out.joinpath('loss_logs.pdf'))"
   ]
  },
  {
   "cell_type": "code",
   "execution_count": 15,
   "metadata": {},
   "outputs": [],
   "source": [
    "dlsvm.load_weights(str(out.joinpath('model.weights.h5')))"
   ]
  },
  {
   "cell_type": "code",
   "execution_count": 16,
   "metadata": {},
   "outputs": [
    {
     "name": "stdout",
     "output_type": "stream",
     "text": [
      "Model: \"sequential\"\n",
      "_________________________________________________________________\n",
      "Layer (type)                 Output Shape              Param #   \n",
      "=================================================================\n",
      "dense (Dense)                (None, 32)                160       \n",
      "_________________________________________________________________\n",
      "dense_1 (Dense)              (None, 3)                 99        \n",
      "=================================================================\n",
      "Total params: 259\n",
      "Trainable params: 259\n",
      "Non-trainable params: 0\n",
      "_________________________________________________________________\n"
     ]
    }
   ],
   "source": [
    "dlsvm.model.summary()"
   ]
  },
  {
   "cell_type": "markdown",
   "metadata": {},
   "source": [
    "### Performance of model"
   ]
  },
  {
   "cell_type": "code",
   "execution_count": 17,
   "metadata": {},
   "outputs": [
    {
     "name": "stdout",
     "output_type": "stream",
     "text": [
      "Train perfomance of model\n",
      "            0.0        1.0        2.0   micro avg   macro avg  weighted avg\n",
      "f1-score    1.0   0.936709   0.938272    0.958333    0.958327      0.958314\n",
      "precision   1.0   0.973684   0.904762    0.958333    0.959482      0.960056\n",
      "recall      1.0   0.902439   0.974359    0.958333    0.958933      0.958333\n",
      "support    40.0  41.000000  39.000000  120.000000  120.000000    120.000000\n"
     ]
    }
   ],
   "source": [
    "df_train = pd.DataFrame(\n",
    "    classification_report(y_pred=np.argmax(dlsvm.predict(X_train), axis=-1), y_true=y_train, output_dict=True)\n",
    ")\n",
    "print('Train perfomance of model')\n",
    "print(df_train)\n",
    "df_train.to_csv(out.joinpath('train-performance.csv'))"
   ]
  },
  {
   "cell_type": "code",
   "execution_count": 18,
   "metadata": {},
   "outputs": [
    {
     "name": "stdout",
     "output_type": "stream",
     "text": [
      "Test perfomance of model\n",
      "            0.0  1.0   2.0  micro avg  macro avg  weighted avg\n",
      "f1-score    1.0  1.0   1.0        1.0        1.0           1.0\n",
      "precision   1.0  1.0   1.0        1.0        1.0           1.0\n",
      "recall      1.0  1.0   1.0        1.0        1.0           1.0\n",
      "support    10.0  9.0  11.0       30.0       30.0          30.0\n"
     ]
    }
   ],
   "source": [
    "df_test = pd.DataFrame(\n",
    "    classification_report(y_pred=np.argmax(dlsvm.predict(X_test), axis=-1), y_true=y_test, output_dict=True)\n",
    ")\n",
    "print('Test perfomance of model')\n",
    "print(df_test)\n",
    "df_test.to_csv(out.joinpath('test-performance.csv'))"
   ]
  },
  {
   "cell_type": "code",
   "execution_count": 19,
   "metadata": {},
   "outputs": [
    {
     "data": {
      "text/plain": [
       "array([0, 0, 1, 0, 0, 2, 1, 0, 0, 0, 2, 1, 1, 0, 0, 1, 2, 2, 1, 2, 1, 2,\n",
       "       2, 0, 2, 1, 0, 0, 0, 1, 2, 0, 0, 0, 1, 0, 1, 2, 0, 1, 2, 0, 2, 2,\n",
       "       1, 2, 2, 1, 0, 1, 2, 0, 0, 1, 1, 0, 2, 0, 0, 2, 1, 2, 2, 2, 2, 1,\n",
       "       0, 0, 2, 2, 0, 0, 0, 1, 2, 0, 2, 2, 0, 1, 1, 2, 1, 2, 0, 2, 1, 2,\n",
       "       1, 1, 1, 0, 1, 1, 0, 1, 2, 2, 0, 1, 2, 1, 0, 2, 0, 1, 2, 2, 1, 2,\n",
       "       1, 1, 2, 2, 0, 1, 2, 0, 1, 2])"
      ]
     },
     "execution_count": 19,
     "metadata": {},
     "output_type": "execute_result"
    }
   ],
   "source": [
    "np.argmax(dlsvm.predict(X_train), axis=-1)"
   ]
  },
  {
   "cell_type": "code",
   "execution_count": 20,
   "metadata": {},
   "outputs": [
    {
     "data": {
      "text/plain": [
       "array([1, 0, 2, 1, 1, 0, 1, 2, 1, 1, 2, 0, 0, 0, 0, 1, 2, 1, 1, 2, 0, 2,\n",
       "       0, 2, 2, 2, 2, 2, 0, 0])"
      ]
     },
     "execution_count": 20,
     "metadata": {},
     "output_type": "execute_result"
    }
   ],
   "source": [
    "np.argmax(dlsvm.predict(X_test), axis=-1)"
   ]
  }
 ],
 "metadata": {
  "jupytext": {
   "text_representation": {
    "extension": ".py",
    "format_name": "light",
    "format_version": "1.5",
    "jupytext_version": "1.4.2"
   }
  },
  "kernelspec": {
   "display_name": "Python 3",
   "language": "python",
   "name": "python3"
  },
  "language_info": {
   "codemirror_mode": {
    "name": "ipython",
    "version": 3
   },
   "file_extension": ".py",
   "mimetype": "text/x-python",
   "name": "python",
   "nbconvert_exporter": "python",
   "pygments_lexer": "ipython3",
   "version": "3.6.8"
  }
 },
 "nbformat": 4,
 "nbformat_minor": 4
}
