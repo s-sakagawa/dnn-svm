{
 "cells": [
  {
   "cell_type": "code",
   "execution_count": 1,
   "metadata": {},
   "outputs": [],
   "source": [
    "from pathlib import Path\n",
    "from typing import Union, Callable\n",
    "\n",
    "import numpy as np\n",
    "import matplotlib.pyplot as plt\n",
    "import pandas as pd\n",
    "import seaborn as sns\n",
    "import tensorflow as tf\n",
    "import tensorflow.keras as tfk\n",
    "from sklearn import datasets\n",
    "from sklearn.externals import joblib\n",
    "from sklearn.metrics import classification_report\n",
    "from sklearn.model_selection import train_test_split\n",
    "\n",
    "from dlsvm.models import DnnSvm\n",
    "from dlsvm.tools import build_model, label_2_onehot"
   ]
  },
  {
   "cell_type": "code",
   "execution_count": 2,
   "metadata": {},
   "outputs": [],
   "source": [
    "out = Path('./0518_iris_softmax')\n",
    "if not out.exists():\n",
    "    out.mkdir(parents=True)"
   ]
  },
  {
   "cell_type": "code",
   "execution_count": 3,
   "metadata": {},
   "outputs": [],
   "source": [
    "sns.set()"
   ]
  },
  {
   "cell_type": "markdown",
   "metadata": {},
   "source": [
    "### Load dataset"
   ]
  },
  {
   "cell_type": "code",
   "execution_count": 4,
   "metadata": {},
   "outputs": [],
   "source": [
    "iris = datasets.load_iris()\n",
    "X = iris.data.astype(np.float32)\n",
    "y = iris.target.astype(np.float32)"
   ]
  },
  {
   "cell_type": "code",
   "execution_count": 5,
   "metadata": {},
   "outputs": [],
   "source": [
    "X_train, X_test, y_train, y_test = train_test_split(X, y, test_size=0.2, random_state=42)\n",
    "\n",
    "X_train_, X_train_val, y_train_, y_train_val = train_test_split(X_train, y_train, test_size=0.2, random_state=42)"
   ]
  },
  {
   "cell_type": "code",
   "execution_count": 6,
   "metadata": {},
   "outputs": [],
   "source": [
    "y_train_ = label_2_onehot(y_train_)\n",
    "y_train_val = label_2_onehot(y_train_val)"
   ]
  },
  {
   "cell_type": "markdown",
   "metadata": {},
   "source": [
    "### Build model"
   ]
  },
  {
   "cell_type": "code",
   "execution_count": 7,
   "metadata": {},
   "outputs": [],
   "source": [
    "dlsvm = build_model(\n",
    "    n_class=len(iris.target_names),\n",
    "    n_in=len(iris.data[0]),\n",
    "    n_h=32,\n",
    "    activation='relu',\n",
    "    kernel_initializer='he_uniform',\n",
    "    penalty=1.,\n",
    "    softmax=True\n",
    ")"
   ]
  },
  {
   "cell_type": "code",
   "execution_count": 8,
   "metadata": {},
   "outputs": [],
   "source": [
    "batch_size = 12\n",
    "epochs = 100\n",
    "learning_rate = 1e-3\n",
    "patience = 5\n",
    "loss = 'categorical_crossentropy'"
   ]
  },
  {
   "cell_type": "code",
   "execution_count": 9,
   "metadata": {},
   "outputs": [],
   "source": [
    "optimizer = tf.keras.optimizers.Adam(learning_rate=learning_rate)\n",
    "dlsvm.compile(optimizer=optimizer, loss=loss, metrics=['acc'])"
   ]
  },
  {
   "cell_type": "code",
   "execution_count": 10,
   "metadata": {},
   "outputs": [
    {
     "name": "stdout",
     "output_type": "stream",
     "text": [
      "WARNING:tensorflow:`period` argument is deprecated. Please use `save_freq` to specify the frequency in number of samples seen.\n"
     ]
    }
   ],
   "source": [
    "es_cb = tfk.callbacks.EarlyStopping(\n",
    "    monitor='val_loss', patience=patience, mode='auto'\n",
    ")\n",
    "tb_cb = tfk.callbacks.TensorBoard(log_dir=str(out))\n",
    "cl_cb = tfk.callbacks.CSVLogger(\n",
    "    str(out.joinpath('train.log.csv')), separator=',', append=False\n",
    ")\n",
    "cp_cb = tfk.callbacks.ModelCheckpoint(\n",
    "    str(out.joinpath('model.weights.h5')), monitor='val_acc', verbose=0,\n",
    "    save_best_only=True, save_weights_only=False, mode='auto', period=1\n",
    ")"
   ]
  },
  {
   "cell_type": "markdown",
   "metadata": {},
   "source": [
    "### Train model"
   ]
  },
  {
   "cell_type": "code",
   "execution_count": 11,
   "metadata": {},
   "outputs": [
    {
     "name": "stdout",
     "output_type": "stream",
     "text": [
      "Train on 96 samples, validate on 24 samples\n",
      "Epoch 1/100\n",
      "96/96 [==============================] - 1s 10ms/sample - loss: 4.2347 - acc: 0.3333 - val_loss: 4.2253 - val_acc: 0.3333\n",
      "Epoch 2/100\n",
      "96/96 [==============================] - 0s 609us/sample - loss: 3.0246 - acc: 0.3333 - val_loss: 3.3285 - val_acc: 0.3333\n",
      "Epoch 3/100\n",
      "96/96 [==============================] - 0s 931us/sample - loss: 2.2836 - acc: 0.4062 - val_loss: 2.7486 - val_acc: 0.3750\n",
      "Epoch 4/100\n",
      "96/96 [==============================] - 0s 586us/sample - loss: 1.8429 - acc: 0.3542 - val_loss: 2.2593 - val_acc: 0.2083\n",
      "Epoch 5/100\n",
      "96/96 [==============================] - 0s 525us/sample - loss: 1.4867 - acc: 0.3646 - val_loss: 1.7338 - val_acc: 0.2917\n",
      "Epoch 6/100\n",
      "96/96 [==============================] - 0s 500us/sample - loss: 1.1750 - acc: 0.3958 - val_loss: 1.3839 - val_acc: 0.2917\n",
      "Epoch 7/100\n",
      "96/96 [==============================] - 0s 509us/sample - loss: 1.0372 - acc: 0.4583 - val_loss: 1.2110 - val_acc: 0.3750\n",
      "Epoch 8/100\n",
      "96/96 [==============================] - 0s 808us/sample - loss: 0.9900 - acc: 0.5521 - val_loss: 1.1220 - val_acc: 0.4583\n",
      "Epoch 9/100\n",
      "96/96 [==============================] - 0s 495us/sample - loss: 0.9200 - acc: 0.5729 - val_loss: 1.0818 - val_acc: 0.4167\n",
      "Epoch 10/100\n",
      "96/96 [==============================] - 0s 623us/sample - loss: 0.8520 - acc: 0.5521 - val_loss: 1.0477 - val_acc: 0.4167\n",
      "Epoch 11/100\n",
      "96/96 [==============================] - 0s 901us/sample - loss: 0.7962 - acc: 0.6354 - val_loss: 1.0051 - val_acc: 0.5000\n",
      "Epoch 12/100\n",
      "96/96 [==============================] - 0s 915us/sample - loss: 0.7407 - acc: 0.7083 - val_loss: 0.9303 - val_acc: 0.5417\n",
      "Epoch 13/100\n",
      "96/96 [==============================] - 0s 827us/sample - loss: 0.6932 - acc: 0.7917 - val_loss: 0.8736 - val_acc: 0.5833\n",
      "Epoch 14/100\n",
      "96/96 [==============================] - 0s 878us/sample - loss: 0.6545 - acc: 0.8333 - val_loss: 0.8146 - val_acc: 0.6250\n",
      "Epoch 15/100\n",
      "96/96 [==============================] - 0s 847us/sample - loss: 0.6128 - acc: 0.8750 - val_loss: 0.7928 - val_acc: 0.6667\n",
      "Epoch 16/100\n",
      "96/96 [==============================] - 0s 855us/sample - loss: 0.5791 - acc: 0.8854 - val_loss: 0.7577 - val_acc: 0.7083\n",
      "Epoch 17/100\n",
      "96/96 [==============================] - 0s 570us/sample - loss: 0.5505 - acc: 0.8854 - val_loss: 0.7199 - val_acc: 0.7083\n",
      "Epoch 18/100\n",
      "96/96 [==============================] - 0s 807us/sample - loss: 0.5256 - acc: 0.8958 - val_loss: 0.6808 - val_acc: 0.7917\n",
      "Epoch 19/100\n",
      "96/96 [==============================] - 0s 560us/sample - loss: 0.4982 - acc: 0.9167 - val_loss: 0.6706 - val_acc: 0.7500\n",
      "Epoch 20/100\n",
      "96/96 [==============================] - 0s 515us/sample - loss: 0.4766 - acc: 0.9062 - val_loss: 0.6434 - val_acc: 0.7500\n",
      "Epoch 21/100\n",
      "96/96 [==============================] - 0s 569us/sample - loss: 0.4570 - acc: 0.9375 - val_loss: 0.6080 - val_acc: 0.7917\n",
      "Epoch 22/100\n",
      "96/96 [==============================] - 0s 513us/sample - loss: 0.4395 - acc: 0.9479 - val_loss: 0.5802 - val_acc: 0.7917\n",
      "Epoch 23/100\n",
      "96/96 [==============================] - 0s 531us/sample - loss: 0.4270 - acc: 0.9062 - val_loss: 0.6014 - val_acc: 0.7500\n",
      "Epoch 24/100\n",
      "96/96 [==============================] - 0s 531us/sample - loss: 0.3977 - acc: 0.9375 - val_loss: 0.5716 - val_acc: 0.7917\n",
      "Epoch 25/100\n",
      "96/96 [==============================] - 0s 562us/sample - loss: 0.3838 - acc: 0.9583 - val_loss: 0.5229 - val_acc: 0.7917\n",
      "Epoch 26/100\n",
      "96/96 [==============================] - 0s 583us/sample - loss: 0.3716 - acc: 0.9479 - val_loss: 0.5628 - val_acc: 0.7917\n",
      "Epoch 27/100\n",
      "96/96 [==============================] - 0s 627us/sample - loss: 0.3510 - acc: 0.9479 - val_loss: 0.5225 - val_acc: 0.7917\n",
      "Epoch 28/100\n",
      "96/96 [==============================] - 0s 517us/sample - loss: 0.3358 - acc: 0.9688 - val_loss: 0.5014 - val_acc: 0.7917\n",
      "Epoch 29/100\n",
      "96/96 [==============================] - 0s 537us/sample - loss: 0.3218 - acc: 0.9583 - val_loss: 0.5101 - val_acc: 0.7917\n",
      "Epoch 30/100\n",
      "96/96 [==============================] - 0s 575us/sample - loss: 0.3128 - acc: 0.9583 - val_loss: 0.4970 - val_acc: 0.7917\n",
      "Epoch 31/100\n",
      "96/96 [==============================] - 0s 570us/sample - loss: 0.3057 - acc: 0.9583 - val_loss: 0.4845 - val_acc: 0.7917\n",
      "Epoch 32/100\n",
      "96/96 [==============================] - 0s 573us/sample - loss: 0.2951 - acc: 0.9583 - val_loss: 0.4797 - val_acc: 0.7917\n",
      "Epoch 33/100\n",
      "96/96 [==============================] - 0s 570us/sample - loss: 0.2875 - acc: 0.9583 - val_loss: 0.4771 - val_acc: 0.7917\n",
      "Epoch 34/100\n",
      "96/96 [==============================] - 0s 554us/sample - loss: 0.2809 - acc: 0.9688 - val_loss: 0.4652 - val_acc: 0.7917\n",
      "Epoch 35/100\n",
      "96/96 [==============================] - 0s 580us/sample - loss: 0.2744 - acc: 0.9688 - val_loss: 0.4412 - val_acc: 0.7917\n",
      "Epoch 36/100\n",
      "96/96 [==============================] - 0s 500us/sample - loss: 0.2701 - acc: 0.9688 - val_loss: 0.4292 - val_acc: 0.7917\n",
      "Epoch 37/100\n",
      "96/96 [==============================] - 0s 468us/sample - loss: 0.2635 - acc: 0.9583 - val_loss: 0.4561 - val_acc: 0.7917\n",
      "Epoch 38/100\n",
      "96/96 [==============================] - 0s 505us/sample - loss: 0.2575 - acc: 0.9688 - val_loss: 0.4401 - val_acc: 0.7917\n",
      "Epoch 39/100\n",
      "96/96 [==============================] - 0s 519us/sample - loss: 0.2548 - acc: 0.9688 - val_loss: 0.4124 - val_acc: 0.7917\n",
      "Epoch 40/100\n",
      "96/96 [==============================] - 0s 529us/sample - loss: 0.2465 - acc: 0.9688 - val_loss: 0.4213 - val_acc: 0.7917\n",
      "Epoch 41/100\n",
      "96/96 [==============================] - 0s 667us/sample - loss: 0.2429 - acc: 0.9688 - val_loss: 0.4173 - val_acc: 0.7917\n",
      "Epoch 42/100\n",
      "96/96 [==============================] - 0s 1ms/sample - loss: 0.2385 - acc: 0.9688 - val_loss: 0.4244 - val_acc: 0.8333\n",
      "Epoch 43/100\n",
      "96/96 [==============================] - 0s 695us/sample - loss: 0.2342 - acc: 0.9688 - val_loss: 0.4051 - val_acc: 0.8333\n",
      "Epoch 44/100\n",
      "96/96 [==============================] - 0s 679us/sample - loss: 0.2296 - acc: 0.9688 - val_loss: 0.3968 - val_acc: 0.8333\n",
      "Epoch 45/100\n",
      "96/96 [==============================] - ETA: 0s - loss: 0.1716 - acc: 1.000 - 0s 604us/sample - loss: 0.2273 - acc: 0.9688 - val_loss: 0.4067 - val_acc: 0.8333\n",
      "Epoch 46/100\n",
      "96/96 [==============================] - 0s 1ms/sample - loss: 0.2236 - acc: 0.9792 - val_loss: 0.3790 - val_acc: 0.8750\n",
      "Epoch 47/100\n",
      "96/96 [==============================] - 0s 597us/sample - loss: 0.2197 - acc: 0.9688 - val_loss: 0.3781 - val_acc: 0.8750\n",
      "Epoch 48/100\n",
      "96/96 [==============================] - 0s 618us/sample - loss: 0.2159 - acc: 0.9688 - val_loss: 0.3980 - val_acc: 0.8333\n",
      "Epoch 49/100\n",
      "96/96 [==============================] - 0s 526us/sample - loss: 0.2130 - acc: 0.9688 - val_loss: 0.3837 - val_acc: 0.8333\n",
      "Epoch 50/100\n",
      "96/96 [==============================] - 0s 584us/sample - loss: 0.2105 - acc: 0.9688 - val_loss: 0.3696 - val_acc: 0.8750\n",
      "Epoch 51/100\n",
      "96/96 [==============================] - 0s 651us/sample - loss: 0.2059 - acc: 0.9688 - val_loss: 0.3671 - val_acc: 0.8750\n",
      "Epoch 52/100\n",
      "96/96 [==============================] - 0s 761us/sample - loss: 0.2041 - acc: 0.9688 - val_loss: 0.3676 - val_acc: 0.8750\n",
      "Epoch 53/100\n",
      "96/96 [==============================] - 0s 886us/sample - loss: 0.2009 - acc: 0.9688 - val_loss: 0.3698 - val_acc: 0.8750\n",
      "Epoch 54/100\n",
      "96/96 [==============================] - 0s 857us/sample - loss: 0.1984 - acc: 0.9792 - val_loss: 0.3809 - val_acc: 0.8333\n",
      "Epoch 55/100\n",
      "96/96 [==============================] - 0s 800us/sample - loss: 0.1953 - acc: 0.9792 - val_loss: 0.3616 - val_acc: 0.8750\n",
      "Epoch 56/100\n",
      "96/96 [==============================] - 0s 795us/sample - loss: 0.1935 - acc: 0.9688 - val_loss: 0.3433 - val_acc: 0.8750\n",
      "Epoch 57/100\n",
      "96/96 [==============================] - 0s 736us/sample - loss: 0.1911 - acc: 0.9688 - val_loss: 0.3450 - val_acc: 0.8750\n",
      "Epoch 58/100\n",
      "96/96 [==============================] - 0s 671us/sample - loss: 0.1892 - acc: 0.9792 - val_loss: 0.3624 - val_acc: 0.8750\n",
      "Epoch 59/100\n",
      "96/96 [==============================] - 0s 735us/sample - loss: 0.1863 - acc: 0.9688 - val_loss: 0.3465 - val_acc: 0.8750\n",
      "Epoch 60/100\n",
      "96/96 [==============================] - 0s 588us/sample - loss: 0.1858 - acc: 0.9688 - val_loss: 0.3514 - val_acc: 0.8750\n",
      "Epoch 61/100\n",
      "96/96 [==============================] - 0s 791us/sample - loss: 0.1806 - acc: 0.9688 - val_loss: 0.3348 - val_acc: 0.8750\n",
      "Epoch 62/100\n",
      "96/96 [==============================] - 0s 791us/sample - loss: 0.1797 - acc: 0.9688 - val_loss: 0.3340 - val_acc: 0.8750\n",
      "Epoch 63/100\n",
      "96/96 [==============================] - 0s 761us/sample - loss: 0.1771 - acc: 0.9688 - val_loss: 0.3424 - val_acc: 0.8750\n",
      "Epoch 64/100\n",
      "96/96 [==============================] - 0s 693us/sample - loss: 0.1750 - acc: 0.9688 - val_loss: 0.3320 - val_acc: 0.8750\n",
      "Epoch 65/100\n",
      "96/96 [==============================] - 0s 713us/sample - loss: 0.1758 - acc: 0.9688 - val_loss: 0.3459 - val_acc: 0.8750\n",
      "Epoch 66/100\n",
      "96/96 [==============================] - 0s 807us/sample - loss: 0.1725 - acc: 0.9688 - val_loss: 0.3236 - val_acc: 0.8750\n",
      "Epoch 67/100\n",
      "96/96 [==============================] - 0s 1ms/sample - loss: 0.1706 - acc: 0.9688 - val_loss: 0.3149 - val_acc: 0.9167\n",
      "Epoch 68/100\n",
      "96/96 [==============================] - 0s 848us/sample - loss: 0.1702 - acc: 0.9688 - val_loss: 0.3403 - val_acc: 0.8750\n",
      "Epoch 69/100\n",
      "96/96 [==============================] - 0s 745us/sample - loss: 0.1669 - acc: 0.9792 - val_loss: 0.3339 - val_acc: 0.8750\n",
      "Epoch 70/100\n",
      "96/96 [==============================] - 0s 701us/sample - loss: 0.1633 - acc: 0.9792 - val_loss: 0.3098 - val_acc: 0.9167\n",
      "Epoch 71/100\n",
      "96/96 [==============================] - 0s 819us/sample - loss: 0.1641 - acc: 0.9688 - val_loss: 0.3172 - val_acc: 0.9167\n",
      "Epoch 72/100\n",
      "96/96 [==============================] - 0s 873us/sample - loss: 0.1625 - acc: 0.9688 - val_loss: 0.3228 - val_acc: 0.8750\n",
      "Epoch 73/100\n",
      "96/96 [==============================] - 0s 788us/sample - loss: 0.1592 - acc: 0.9688 - val_loss: 0.2981 - val_acc: 0.9167\n",
      "Epoch 74/100\n",
      "96/96 [==============================] - 0s 804us/sample - loss: 0.1588 - acc: 0.9688 - val_loss: 0.3102 - val_acc: 0.9167\n",
      "Epoch 75/100\n",
      "96/96 [==============================] - 0s 777us/sample - loss: 0.1569 - acc: 0.9688 - val_loss: 0.3149 - val_acc: 0.9167\n",
      "Epoch 76/100\n",
      "96/96 [==============================] - 0s 712us/sample - loss: 0.1553 - acc: 0.9688 - val_loss: 0.3066 - val_acc: 0.9167\n",
      "Epoch 77/100\n",
      "96/96 [==============================] - 0s 781us/sample - loss: 0.1557 - acc: 0.9792 - val_loss: 0.3168 - val_acc: 0.9167\n",
      "Epoch 78/100\n",
      "96/96 [==============================] - 0s 596us/sample - loss: 0.1516 - acc: 0.9792 - val_loss: 0.3019 - val_acc: 0.9167\n",
      "Epoch 79/100\n",
      "96/96 [==============================] - 0s 667us/sample - loss: 0.1506 - acc: 0.9688 - val_loss: 0.3008 - val_acc: 0.9167\n",
      "Epoch 80/100\n",
      "96/96 [==============================] - 0s 592us/sample - loss: 0.1496 - acc: 0.9688 - val_loss: 0.3056 - val_acc: 0.9167\n",
      "Epoch 81/100\n",
      "96/96 [==============================] - 0s 677us/sample - loss: 0.1489 - acc: 0.9792 - val_loss: 0.3108 - val_acc: 0.9167\n",
      "Epoch 82/100\n",
      "96/96 [==============================] - 0s 624us/sample - loss: 0.1511 - acc: 0.9688 - val_loss: 0.2762 - val_acc: 0.9167\n",
      "Epoch 83/100\n",
      "96/96 [==============================] - 0s 933us/sample - loss: 0.1474 - acc: 0.9688 - val_loss: 0.3131 - val_acc: 0.9167\n",
      "Epoch 84/100\n",
      "96/96 [==============================] - 0s 883us/sample - loss: 0.1443 - acc: 0.9688 - val_loss: 0.2968 - val_acc: 0.9167\n",
      "Epoch 85/100\n",
      "96/96 [==============================] - 0s 1ms/sample - loss: 0.1430 - acc: 0.9792 - val_loss: 0.2979 - val_acc: 0.9167\n",
      "Epoch 86/100\n",
      "96/96 [==============================] - 0s 1ms/sample - loss: 0.1417 - acc: 0.9688 - val_loss: 0.2859 - val_acc: 0.9167\n",
      "Epoch 87/100\n",
      "96/96 [==============================] - 0s 1ms/sample - loss: 0.1409 - acc: 0.9688 - val_loss: 0.2921 - val_acc: 0.9167\n",
      "Epoch 88/100\n",
      "96/96 [==============================] - 0s 1ms/sample - loss: 0.1395 - acc: 0.9792 - val_loss: 0.2961 - val_acc: 0.9167\n",
      "Epoch 89/100\n",
      "96/96 [==============================] - 0s 655us/sample - loss: 0.1387 - acc: 0.9688 - val_loss: 0.2747 - val_acc: 0.9167\n",
      "Epoch 90/100\n",
      "96/96 [==============================] - 0s 829us/sample - loss: 0.1422 - acc: 0.9688 - val_loss: 0.3020 - val_acc: 0.9167\n",
      "Epoch 91/100\n",
      "96/96 [==============================] - 0s 796us/sample - loss: 0.1355 - acc: 0.9792 - val_loss: 0.2864 - val_acc: 0.9167\n",
      "Epoch 92/100\n",
      "96/96 [==============================] - 0s 916us/sample - loss: 0.1346 - acc: 0.9688 - val_loss: 0.2640 - val_acc: 0.9167\n",
      "Epoch 93/100\n",
      "96/96 [==============================] - 0s 731us/sample - loss: 0.1340 - acc: 0.9688 - val_loss: 0.2715 - val_acc: 0.9167\n",
      "Epoch 94/100\n",
      "96/96 [==============================] - 0s 878us/sample - loss: 0.1328 - acc: 0.9688 - val_loss: 0.2906 - val_acc: 0.9167\n",
      "Epoch 95/100\n",
      "96/96 [==============================] - 0s 884us/sample - loss: 0.1321 - acc: 0.9792 - val_loss: 0.2939 - val_acc: 0.9167\n",
      "Epoch 96/100\n",
      "96/96 [==============================] - 0s 736us/sample - loss: 0.1310 - acc: 0.9688 - val_loss: 0.2806 - val_acc: 0.9167\n",
      "Epoch 97/100\n",
      "96/96 [==============================] - 0s 674us/sample - loss: 0.1296 - acc: 0.9792 - val_loss: 0.2608 - val_acc: 0.9167\n",
      "Epoch 98/100\n",
      "96/96 [==============================] - 0s 876us/sample - loss: 0.1288 - acc: 0.9688 - val_loss: 0.2647 - val_acc: 0.9167\n",
      "Epoch 99/100\n",
      "96/96 [==============================] - 0s 838us/sample - loss: 0.1303 - acc: 0.9792 - val_loss: 0.3051 - val_acc: 0.8750\n",
      "Epoch 100/100\n",
      "96/96 [==============================] - 0s 826us/sample - loss: 0.1277 - acc: 0.9688 - val_loss: 0.2665 - val_acc: 0.9167\n"
     ]
    }
   ],
   "source": [
    "history = dlsvm.fit(\n",
    "    *(X_train_, y_train_),\n",
    "    validation_data=(X_train_val, y_train_val),\n",
    "    batch_size=batch_size,\n",
    "    epochs=epochs,\n",
    "    callbacks=[tb_cb, cl_cb, cp_cb]\n",
    ")"
   ]
  },
  {
   "cell_type": "code",
   "execution_count": 12,
   "metadata": {},
   "outputs": [],
   "source": [
    "df_result = pd.DataFrame(history.history)"
   ]
  },
  {
   "cell_type": "code",
   "execution_count": 13,
   "metadata": {},
   "outputs": [
    {
     "data": {
      "image/png": "[encoded data removed]",
      "text/plain": [
       "<Figure size 432x288 with 1 Axes>"
      ]
     },
     "metadata": {},
     "output_type": "display_data"
    }
   ],
   "source": [
    "sns.lineplot(data=df_result[['acc', 'val_acc']])\n",
    "plt.xlabel('epoch')\n",
    "plt.ylabel('acc')\n",
    "plt.savefig(out.joinpath('acc_logs.pdf'))"
   ]
  },
  {
   "cell_type": "code",
   "execution_count": 14,
   "metadata": {},
   "outputs": [
    {
     "data": {
      "image/png": "[encoded data removed]",
      "text/plain": [
       "<Figure size 432x288 with 1 Axes>"
      ]
     },
     "metadata": {},
     "output_type": "display_data"
    }
   ],
   "source": [
    "sns.lineplot(data=df_result[['loss', 'val_loss']])\n",
    "plt.xlabel('epoch')\n",
    "plt.ylabel('loss')\n",
    "plt.savefig(out.joinpath('loss_logs.pdf'))"
   ]
  },
  {
   "cell_type": "code",
   "execution_count": 15,
   "metadata": {},
   "outputs": [],
   "source": [
    "dlsvm.load_weights(str(out.joinpath('model.weights.h5')))"
   ]
  },
  {
   "cell_type": "code",
   "execution_count": 16,
   "metadata": {},
   "outputs": [
    {
     "name": "stdout",
     "output_type": "stream",
     "text": [
      "Model: \"sequential\"\n",
      "_________________________________________________________________\n",
      "Layer (type)                 Output Shape              Param #   \n",
      "=================================================================\n",
      "dense (Dense)                (None, 32)                160       \n",
      "_________________________________________________________________\n",
      "dense_1 (Dense)              (None, 3)                 99        \n",
      "=================================================================\n",
      "Total params: 259\n",
      "Trainable params: 259\n",
      "Non-trainable params: 0\n",
      "_________________________________________________________________\n"
     ]
    }
   ],
   "source": [
    "dlsvm.summary()"
   ]
  },
  {
   "cell_type": "markdown",
   "metadata": {},
   "source": [
    "### Performance of model"
   ]
  },
  {
   "cell_type": "code",
   "execution_count": 17,
   "metadata": {},
   "outputs": [
    {
     "name": "stdout",
     "output_type": "stream",
     "text": [
      "Train perfomance of model\n",
      "            0.0        1.0        2.0   micro avg   macro avg  weighted avg\n",
      "f1-score    1.0   0.936709   0.938272    0.958333    0.958327      0.958314\n",
      "precision   1.0   0.973684   0.904762    0.958333    0.959482      0.960056\n",
      "recall      1.0   0.902439   0.974359    0.958333    0.958933      0.958333\n",
      "support    40.0  41.000000  39.000000  120.000000  120.000000    120.000000\n"
     ]
    }
   ],
   "source": [
    "df_train = pd.DataFrame(\n",
    "    classification_report(y_pred=np.argmax(dlsvm.predict(X_train), axis=-1), y_true=y_train, output_dict=True)\n",
    ")\n",
    "print('Train perfomance of model')\n",
    "print(df_train)\n",
    "df_train.to_csv(out.joinpath('train-performance.csv'))"
   ]
  },
  {
   "cell_type": "code",
   "execution_count": 18,
   "metadata": {},
   "outputs": [
    {
     "name": "stdout",
     "output_type": "stream",
     "text": [
      "Test perfomance of model\n",
      "            0.0  1.0   2.0  micro avg  macro avg  weighted avg\n",
      "f1-score    1.0  1.0   1.0        1.0        1.0           1.0\n",
      "precision   1.0  1.0   1.0        1.0        1.0           1.0\n",
      "recall      1.0  1.0   1.0        1.0        1.0           1.0\n",
      "support    10.0  9.0  11.0       30.0       30.0          30.0\n"
     ]
    }
   ],
   "source": [
    "df_test = pd.DataFrame(\n",
    "    classification_report(y_pred=np.argmax(dlsvm.predict(X_test), axis=-1), y_true=y_test, output_dict=True)\n",
    ")\n",
    "print('Test perfomance of model')\n",
    "print(df_test)\n",
    "df_test.to_csv(out.joinpath('test-performance.csv'))"
   ]
  },
  {
   "cell_type": "code",
   "execution_count": 19,
   "metadata": {},
   "outputs": [
    {
     "data": {
      "text/plain": [
       "array([0, 0, 1, 0, 0, 2, 1, 0, 0, 0, 2, 1, 1, 0, 0, 1, 2, 2, 1, 2, 1, 2,\n",
       "       2, 0, 2, 1, 0, 0, 0, 1, 2, 0, 0, 0, 1, 0, 1, 2, 0, 1, 2, 0, 2, 2,\n",
       "       1, 2, 2, 1, 0, 1, 2, 0, 0, 1, 1, 0, 2, 0, 0, 2, 1, 2, 2, 2, 2, 1,\n",
       "       0, 0, 2, 2, 0, 0, 0, 1, 2, 0, 2, 2, 0, 1, 1, 2, 1, 2, 0, 2, 1, 2,\n",
       "       1, 1, 1, 0, 1, 1, 0, 1, 2, 2, 0, 1, 2, 1, 0, 2, 0, 1, 2, 2, 1, 2,\n",
       "       1, 1, 2, 2, 0, 1, 2, 0, 1, 2])"
      ]
     },
     "execution_count": 19,
     "metadata": {},
     "output_type": "execute_result"
    }
   ],
   "source": [
    "np.argmax(dlsvm.predict(X_train), axis=-1)"
   ]
  },
  {
   "cell_type": "code",
   "execution_count": 20,
   "metadata": {},
   "outputs": [
    {
     "data": {
      "text/plain": [
       "array([1, 0, 2, 1, 1, 0, 1, 2, 1, 1, 2, 0, 0, 0, 0, 1, 2, 1, 1, 2, 0, 2,\n",
       "       0, 2, 2, 2, 2, 2, 0, 0])"
      ]
     },
     "execution_count": 20,
     "metadata": {},
     "output_type": "execute_result"
    }
   ],
   "source": [
    "np.argmax(dlsvm.predict(X_test), axis=-1)"
   ]
  }
 ],
 "metadata": {
  "jupytext": {
   "text_representation": {
    "extension": ".py",
    "format_name": "light",
    "format_version": "1.5",
    "jupytext_version": "1.4.2"
   }
  },
  "kernelspec": {
   "display_name": "Python 3",
   "language": "python",
   "name": "python3"
  },
  "language_info": {
   "codemirror_mode": {
    "name": "ipython",
    "version": 3
   },
   "file_extension": ".py",
   "mimetype": "text/x-python",
   "name": "python",
   "nbconvert_exporter": "python",
   "pygments_lexer": "ipython3",
   "version": "3.6.8"
  }
 },
 "nbformat": 4,
 "nbformat_minor": 4
}
